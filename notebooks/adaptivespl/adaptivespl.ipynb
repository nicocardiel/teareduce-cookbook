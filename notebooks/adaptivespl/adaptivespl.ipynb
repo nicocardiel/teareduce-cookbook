{
 "cells": [
  {
   "cell_type": "markdown",
   "id": "9de1dbfa-e241-4397-aa7b-cf3655fc07fa",
   "metadata": {},
   "source": [
    "# Adaptive spline fit"
   ]
  },
  {
   "cell_type": "code",
   "execution_count": 1,
   "id": "e185070e-929a-44fe-b1e0-55e12c77a527",
   "metadata": {},
   "outputs": [],
   "source": [
    "import teareduce as tea"
   ]
  },
  {
   "cell_type": "markdown",
   "id": "ba992509-f4ea-4797-8146-949c3e62bd0c",
   "metadata": {},
   "source": [
    "There are many situations in which it is useful to perform a smooth fit to a series of points, but a polynomial fit does not provide the necessary flexibility. In such cases, spline fitting is often used. To facilitate this task, **teareduce** provides a class, named `AdaptiveLSQUnivariateSpline` that allows performing this type of fit without having to predefine the locations of the *knots* (the points where the different polynomial segments join to create a continuous and smooth curve), requiring only the specification of the number of intermediate knots to use.\n",
    "\n",
    "The `AdaptiveLSQUnivariateSpline` inherits from  `LSQUnivariateSpline` from the [scipy](https://docs.scipy.org/doc/scipy-1.16.2/reference/generated/scipy.interpolate.LSQUnivariateSpline.html) package, introducing two new parameters:\n",
    "- `adaptive` (bool): if True, optimize the knot location numerically\n",
    "- `tolerance` (float): value to be employed in the minimisation process\n",
    "\n",
    "The numerical minimisation procedure is carried out with the help of the [lmfit](https://lmfit.github.io//lmfit-py/) package, following the procedure described in [Cardiel (2009)](https://articles.adsabs.harvard.edu/pdf/2009MNRAS.396..680C)."
   ]
  },
  {
   "cell_type": "code",
   "execution_count": 3,
   "id": "515aef67-5dc7-4d3e-9097-92bfa79e7e76",
   "metadata": {},
   "outputs": [
    {
     "data": {
      "text/plain": [
       "\u001b[0;31mInit signature:\u001b[0m\n",
       "\u001b[0mtea\u001b[0m\u001b[0;34m.\u001b[0m\u001b[0mAdaptiveLSQUnivariateSpline\u001b[0m\u001b[0;34m(\u001b[0m\u001b[0;34m\u001b[0m\n",
       "\u001b[0;34m\u001b[0m    \u001b[0mx\u001b[0m\u001b[0;34m,\u001b[0m\u001b[0;34m\u001b[0m\n",
       "\u001b[0;34m\u001b[0m    \u001b[0my\u001b[0m\u001b[0;34m,\u001b[0m\u001b[0;34m\u001b[0m\n",
       "\u001b[0;34m\u001b[0m    \u001b[0mt\u001b[0m\u001b[0;34m,\u001b[0m\u001b[0;34m\u001b[0m\n",
       "\u001b[0;34m\u001b[0m    \u001b[0mw\u001b[0m\u001b[0;34m=\u001b[0m\u001b[0;32mNone\u001b[0m\u001b[0;34m,\u001b[0m\u001b[0;34m\u001b[0m\n",
       "\u001b[0;34m\u001b[0m    \u001b[0mbbox\u001b[0m\u001b[0;34m=\u001b[0m\u001b[0;34m(\u001b[0m\u001b[0;32mNone\u001b[0m\u001b[0;34m,\u001b[0m \u001b[0;32mNone\u001b[0m\u001b[0;34m)\u001b[0m\u001b[0;34m,\u001b[0m\u001b[0;34m\u001b[0m\n",
       "\u001b[0;34m\u001b[0m    \u001b[0mk\u001b[0m\u001b[0;34m=\u001b[0m\u001b[0;36m3\u001b[0m\u001b[0;34m,\u001b[0m\u001b[0;34m\u001b[0m\n",
       "\u001b[0;34m\u001b[0m    \u001b[0mext\u001b[0m\u001b[0;34m=\u001b[0m\u001b[0;36m0\u001b[0m\u001b[0;34m,\u001b[0m\u001b[0;34m\u001b[0m\n",
       "\u001b[0;34m\u001b[0m    \u001b[0mcheck_finite\u001b[0m\u001b[0;34m=\u001b[0m\u001b[0;32mFalse\u001b[0m\u001b[0;34m,\u001b[0m\u001b[0;34m\u001b[0m\n",
       "\u001b[0;34m\u001b[0m    \u001b[0madaptive\u001b[0m\u001b[0;34m=\u001b[0m\u001b[0;32mTrue\u001b[0m\u001b[0;34m,\u001b[0m\u001b[0;34m\u001b[0m\n",
       "\u001b[0;34m\u001b[0m    \u001b[0mtolerance\u001b[0m\u001b[0;34m=\u001b[0m\u001b[0;36m1e-07\u001b[0m\u001b[0;34m,\u001b[0m\u001b[0;34m\u001b[0m\n",
       "\u001b[0;34m\u001b[0m\u001b[0;34m)\u001b[0m\u001b[0;34m\u001b[0m\u001b[0;34m\u001b[0m\u001b[0m\n",
       "\u001b[0;31mDocstring:\u001b[0m     \n",
       "Extend scipy.interpolate.LSQUnivariateSpline.\n",
       "\n",
       "One-dimensional spline with explicit internal knots.\n",
       "\n",
       "This is actually a wrapper of\n",
       "`scipy.interpolate.LSQUnivariateSpline`\n",
       "with the addition of using adaptive knot location determined\n",
       "numerically (after normalising the x and y arrays before\n",
       "the minimisation process).\n",
       "\n",
       "Parameters\n",
       "----------\n",
       "x : (N,) array_like\n",
       "    Input dimension of data points -- must be increasing\n",
       "y : (N,) array_like\n",
       "    Input dimension of data points\n",
       "t : (M,) array_like or int\n",
       "    When integer it indicates the number of equidistant\n",
       "    interior knots. When array_like it provides the location\n",
       "    of the interior knots of the spline; must be in ascending\n",
       "    order and::\n",
       "\n",
       "     bbox[0] < t[0] < ... < t[-1] < bbox[-1]\n",
       "\n",
       "w : (N,) array_like, optional\n",
       "    weights for spline fitting.  Must be positive.\n",
       "    If None (default), weights are all equal.\n",
       "bbox : (2,) array_like, optional\n",
       "    2-sequence specifying the boundary of the approximation\n",
       "    interval. If None (default), ``bbox = [x[0], x[-1]]``.\n",
       "k : int, optional\n",
       "    Degree of the smoothing spline.  Must be 1 <= `k` <= 5.\n",
       "    Default is k=3, a cubic spline.\n",
       "ext : int or str, optional\n",
       "    Controls the extrapolation mode for elements\n",
       "    not in the interval defined by the knot sequence.\n",
       "\n",
       "    * if ext=0 or 'extrapolate', return the extrapolated value.\n",
       "    * if ext=1 or 'zeros', return 0\n",
       "    * if ext=2 or 'raise', raise a ValueError\n",
       "    * if ext=3 of 'const', return the boundary value.\n",
       "\n",
       "    The default value is 0.\n",
       "\n",
       "check_finite : bool, optional\n",
       "    Whether to check that the input arrays contain only finite\n",
       "    numbers, that the x array is increasing and that the\n",
       "    x and y arrays are 1-D and with the same length.\n",
       "    Disabling may give a performance gain, but may\n",
       "    result in problems (crashes, non-termination or non-sensical\n",
       "    results) if the inputs do contain infinities or NaNs.\n",
       "    Default is True.\n",
       "adaptive : bool, optional\n",
       "    Whether to optimise knot location following the procedure\n",
       "    described in Cardiel (2009); see:\n",
       "    http://cdsads.u-strasbg.fr/abs/2009MNRAS.396..680C\n",
       "    Default is True.\n",
       "tolerance : float, optional\n",
       "    Tolerance for Nelder-Mead minimisation process.\n",
       "\n",
       "Attributes\n",
       "----------\n",
       "_params : instance of Parameters()\n",
       "    Initial parameters before minimisation.\n",
       "_result : Minimizer output\n",
       "    Result of the minimisation process.\n",
       "\n",
       "See also\n",
       "--------\n",
       "LSQUnivariateSpline : Superclass\n",
       "\u001b[0;31mInit docstring:\u001b[0m One-dimensional spline with explicit internal knots.\n",
       "\u001b[0;31mFile:\u001b[0m           ~/s/teareduce/z_devel/teareduce/src/teareduce/numsplines.py\n",
       "\u001b[0;31mType:\u001b[0m           type\n",
       "\u001b[0;31mSubclasses:\u001b[0m     "
      ]
     },
     "metadata": {},
     "output_type": "display_data"
    }
   ],
   "source": [
    "help(tea.AdaptiveLSQUnivariateSpline)"
   ]
  },
  {
   "cell_type": "markdown",
   "id": "0017a731-c94c-4654-ae88-bb28f0d1fc78",
   "metadata": {},
   "source": [
    "**TBD: illustrate with an example**"
   ]
  },
  {
   "cell_type": "code",
   "execution_count": null,
   "id": "6f8de864-0b88-4ae6-9ed3-1e72d1d680aa",
   "metadata": {},
   "outputs": [],
   "source": []
  }
 ],
 "metadata": {
  "kernelspec": {
   "display_name": "Python 3 (ipykernel)",
   "language": "python",
   "name": "python3"
  },
  "language_info": {
   "codemirror_mode": {
    "name": "ipython",
    "version": 3
   },
   "file_extension": ".py",
   "mimetype": "text/x-python",
   "name": "python",
   "nbconvert_exporter": "python",
   "pygments_lexer": "ipython3",
   "version": "3.12.7"
  }
 },
 "nbformat": 4,
 "nbformat_minor": 5
}
