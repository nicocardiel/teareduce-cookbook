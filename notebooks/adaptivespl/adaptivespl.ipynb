{
 "cells": [
  {
   "cell_type": "markdown",
   "id": "9de1dbfa-e241-4397-aa7b-cf3655fc07fa",
   "metadata": {},
   "source": [
    "# Adaptive spline fit"
   ]
  },
  {
   "cell_type": "code",
   "execution_count": null,
   "id": "e185070e-929a-44fe-b1e0-55e12c77a527",
   "metadata": {},
   "outputs": [],
   "source": [
    "from astropy.io import fits\n",
    "from astropy.table import QTable\n",
    "import astropy.units as u\n",
    "from datetime import datetime\n",
    "import matplotlib.patches as patches\n",
    "import matplotlib.pyplot as plt\n",
    "import numpy as np\n",
    "import os\n",
    "import requests\n",
    "import teareduce as tea"
   ]
  },
  {
   "cell_type": "code",
   "execution_count": null,
   "id": "d67a0880-0dac-4af2-85eb-fdc397cf7892",
   "metadata": {},
   "outputs": [],
   "source": [
    "time_ini = datetime.now()"
   ]
  },
  {
   "cell_type": "markdown",
   "id": "de73efe9-2e9f-47db-950c-06578d375205",
   "metadata": {},
   "source": [
    "Download the required files"
   ]
  },
  {
   "cell_type": "code",
   "execution_count": null,
   "id": "01527319-54e8-458d-9059-88fc091593cf",
   "metadata": {},
   "outputs": [],
   "source": [
    "for fname in [\n",
    "    'notebooks/adaptivespl/response_data_BD33d2642_G100.fits',\n",
    "    'notebooks/adaptivespl/skycalc_transmission_R20000_400-800nm.txt'\n",
    "]:\n",
    "    tea.get_cookbook_file(fname)"
   ]
  },
  {
   "cell_type": "markdown",
   "id": "ba992509-f4ea-4797-8146-949c3e62bd0c",
   "metadata": {},
   "source": [
    "There are many situations in which it is useful to perform a smooth fit to a series of points, but a polynomial fit does not provide the necessary flexibility. In such cases, spline fitting is often used. To facilitate this task, **teareduce** provides a class, named `AdaptiveLSQUnivariateSpline` that allows performing this type of fit without having to predefine the locations of the *knots* (the points where the different polynomial segments join to create a continuous and smooth curve), requiring only the specification of the number of intermediate knots to use.\n",
    "\n",
    "The `AdaptiveLSQUnivariateSpline` inherits from  `LSQUnivariateSpline` from the [scipy](https://docs.scipy.org/doc/scipy-1.16.2/reference/generated/scipy.interpolate.LSQUnivariateSpline.html) package, introducing two new parameters:\n",
    "- `adaptive` (bool): if True, optimize the knot location numerically\n",
    "- `tolerance` (float): value to be employed in the minimisation process\n",
    "\n",
    "The numerical minimisation procedure is carried out with the help of the [lmfit](https://lmfit.github.io//lmfit-py/) package, following the procedure described in [Cardiel (2009)](https://articles.adsabs.harvard.edu/pdf/2009MNRAS.396..680C)."
   ]
  },
  {
   "cell_type": "code",
   "execution_count": null,
   "id": "515aef67-5dc7-4d3e-9097-92bfa79e7e76",
   "metadata": {},
   "outputs": [],
   "source": [
    "help(tea.AdaptiveLSQUnivariateSpline)"
   ]
  },
  {
   "cell_type": "markdown",
   "id": "0017a731-c94c-4654-ae88-bb28f0d1fc78",
   "metadata": {},
   "source": [
    "## Example: computation of response curve"
   ]
  },
  {
   "cell_type": "markdown",
   "id": "3cc56a71-b5bc-40bf-ad1f-90d02b64f9cd",
   "metadata": {},
   "source": [
    "Read input data"
   ]
  },
  {
   "cell_type": "code",
   "execution_count": null,
   "id": "0733b057-ff3c-46ca-9dfe-e2f2b81eef58",
   "metadata": {},
   "outputs": [],
   "source": [
    "input_file = 'response_data_BD33d2642_G100.fits'\n",
    "\n",
    "with fits.open(input_file) as hdul:\n",
    "    hdul.info()\n",
    "    header = hdul[1].header"
   ]
  },
  {
   "cell_type": "markdown",
   "id": "43e3c28d-0617-4379-b360-904d924295a8",
   "metadata": {},
   "source": [
    "The first FITS extension contains a binary table with the initial response curve obtained "
   ]
  },
  {
   "cell_type": "markdown",
   "id": "13b5b986-8a75-4ef0-9e11-559b28b4ffd3",
   "metadata": {},
   "source": [
    "The first extension contains a binary table with the initial response curve, calculated as the ratio between the observed spectrum (in ${\\rm ADU}/{\\rm s}$) and the tabulated spectrum (in ${\\rm erg}\\,{\\rm cm}^{-2}\\,{\\rm s}^{-1}\\,\\unicode{x212B}^{-1}$)."
   ]
  },
  {
   "cell_type": "code",
   "execution_count": null,
   "id": "4875df4f-e995-4346-ac16-12a67d1cc63b",
   "metadata": {},
   "outputs": [],
   "source": [
    "header"
   ]
  },
  {
   "cell_type": "code",
   "execution_count": null,
   "id": "8ac8bff9-853d-4a6a-addb-43f5767836b6",
   "metadata": {},
   "outputs": [],
   "source": [
    "response_data = QTable.read(input_file, hdu=1)"
   ]
  },
  {
   "cell_type": "markdown",
   "id": "a7507c65-3ded-4470-8f1a-e8ba1dee7338",
   "metadata": {},
   "source": [
    "We received a warning because the units `'ADU/s/FLAM'` in the second column of the table are not part of the FITS standard. To avoid problems in the code we will use next, we redefine this expression using valid units."
   ]
  },
  {
   "cell_type": "code",
   "execution_count": null,
   "id": "17686c3e-b8bf-46f9-aa19-4442ad1f0c6a",
   "metadata": {},
   "outputs": [],
   "source": [
    "response_units = u.def_unit('ADU/s/FLAM')"
   ]
  },
  {
   "cell_type": "code",
   "execution_count": null,
   "id": "34d081a0-f632-4567-88d4-8446dd5d203d",
   "metadata": {},
   "outputs": [],
   "source": [
    "response_data"
   ]
  },
  {
   "cell_type": "markdown",
   "id": "2909c412-7940-463e-a866-777f823cff89",
   "metadata": {},
   "source": [
    "We also read an ASCII file containing information on the transmission of the Earth's atmosphere."
   ]
  },
  {
   "cell_type": "code",
   "execution_count": null,
   "id": "9ff725b1-f6a4-47e9-aae5-b45c3b9da8ad",
   "metadata": {},
   "outputs": [],
   "source": [
    "telluric_tabulated = np.genfromtxt('skycalc_transmission_R20000_400-800nm.txt')\n",
    "telluric_tabulated"
   ]
  },
  {
   "cell_type": "markdown",
   "id": "d32f2d4f-8aec-48b0-8a36-a689c15a79db",
   "metadata": {},
   "source": [
    "Prepare the data to be displayed"
   ]
  },
  {
   "cell_type": "code",
   "execution_count": null,
   "id": "d693a00b-0a61-496f-bce0-4ba4e23da587",
   "metadata": {},
   "outputs": [],
   "source": [
    "# response data\n",
    "wavelength = response_data['wavelength']\n",
    "response = response_data['response_data']\n",
    "\n",
    "# transmission data\n",
    "xtelluric = telluric_tabulated[:,0] * 10  # convert from nm to Angstrom\n",
    "ytelluric = telluric_tabulated[:,1]\n",
    "# extract data in the required wavelength range\n",
    "iok = np.argwhere(np.logical_and(xtelluric >= wavelength.value.min(), xtelluric <= wavelength.value.max()))\n",
    "xtelluric = xtelluric[iok]\n",
    "ytelluric = ytelluric[iok]\n",
    "# normalize data\n",
    "ytelluric = ytelluric / ytelluric.max()"
   ]
  },
  {
   "cell_type": "markdown",
   "id": "7fa3c4ef-b286-4e57-a602-5e1b27720945",
   "metadata": {},
   "source": [
    "Define functions to plot data and legend (in this way we avoid repeating code)"
   ]
  },
  {
   "cell_type": "code",
   "execution_count": null,
   "id": "32bfd9e5-b949-4005-98ab-e5b684f2cd20",
   "metadata": {},
   "outputs": [],
   "source": [
    "def plot_data(ax1):\n",
    "    ax1.plot(wavelength, response, label='response curve')\n",
    "    ax1.set_xlabel(f'Wavelength ({wavelength.unit})')\n",
    "    if str(response.unit) != 'ADU/s/FLAM':\n",
    "        raise ValueError(f'unexpected response units: {str(response.unit)}')\n",
    "    ax1.set_ylabel(r'Response (ADU/s) / (${\\rm erg}\\;{\\rm cm}^{−2}\\; {\\rm s}^{−1}\\;{\\rm\\AA}^{−1}$)')\n",
    "    ax1.set_title(input_file)\n",
    "    \n",
    "    ax2 = ax1.twinx()\n",
    "    ax2.plot(xtelluric, ytelluric, color='C2', label='telluric lines', alpha=0.5)\n",
    "    ax2.set_ylabel('relative atmosphere transmission', color='C2')\n",
    "    ax2.set_xlim(wavelength.value.min(), wavelength.value.max())\n",
    "\n",
    "    return ax2\n",
    "\n",
    "def display_legend(ax1, ax2):\n",
    "    # merge labels\n",
    "    handles1, labels1 = ax1.get_legend_handles_labels()\n",
    "    handles2, labels2 = ax2.get_legend_handles_labels()\n",
    "    for handle, label in zip(handles2, labels2):\n",
    "        handles1.append(handle)\n",
    "        labels1.append(label)\n",
    "    ax1.legend(handles1, labels1, loc=2)"
   ]
  },
  {
   "cell_type": "markdown",
   "id": "de2809ad-ff07-4550-87a0-8d37436b7585",
   "metadata": {},
   "source": [
    "Display the data"
   ]
  },
  {
   "cell_type": "code",
   "execution_count": null,
   "id": "97840ded-81ca-4c29-97b7-bc64e1b41b13",
   "metadata": {},
   "outputs": [],
   "source": [
    "fig, ax1 = plt.subplots(figsize=(10, 5))\n",
    "\n",
    "ax2 = plot_data(ax1)\n",
    "display_legend(ax1, ax2)\n",
    "\n",
    "plt.tight_layout()\n",
    "plt.show()"
   ]
  },
  {
   "cell_type": "markdown",
   "id": "a472e466-199d-471a-bd07-d0cd4592ed9c",
   "metadata": {},
   "source": [
    "The previous graph shows the relative transmission of the atmosphere (green curve), which provides a very good explanation for the observed telluric lines. Note that we know the atmospheric transmission with very high spectral resolution, significantly higher than the spectral resolution of our observed spectrum. In principle, we would need to convolve the relative atmospheric transmission (for example, with a Gaussian kernel) in order to better reproduce the telluric absorptions. However, it is not worthwhile to spend time on this. Telluric absorptions also depend on the airmass, and correcting these regions of spectra is a formidable challenge; in this example we are simply going to ignore these regions of the spectra.\n",
    "\n",
    "The response curve we will use will be a smooth fit to the resulting spectrum. But before performing the fit, we will remove problematic regions (particularly those affected by telluric absorptions). We define these regions as intervals in wavelength (Ångström).\n"
   ]
  },
  {
   "cell_type": "code",
   "execution_count": null,
   "id": "79c7a0c7-fa87-4dfa-b055-42d8f2073de3",
   "metadata": {},
   "outputs": [],
   "source": [
    "# wavelength ranges\n",
    "list_bad_regions = [\n",
    "    (4200, 4250),\n",
    "    (6260, 6350),\n",
    "    (6450, 6600),\n",
    "    (6850, 7050),\n",
    "    (7160, 7400),\n",
    "    (7520, 7770),\n",
    "    (8100, 8270),\n",
    "]"
   ]
  },
  {
   "cell_type": "markdown",
   "id": "77eb58dd-1381-41df-8550-ecc33153e645",
   "metadata": {},
   "source": [
    "Auxiliary function to plot the problematic telluric windows."
   ]
  },
  {
   "cell_type": "code",
   "execution_count": null,
   "id": "14cce370-284d-4cda-9eb0-33dfe6675890",
   "metadata": {},
   "outputs": [],
   "source": [
    "def plot_telluric_windows(ax1):\n",
    "    ymin, ymax = ax1.get_ylim()\n",
    "    height = ymax - ymin\n",
    "    for w1, w2 in list_bad_regions:\n",
    "        width = w2 - w1\n",
    "        rect = patches.Rectangle(xy=(w1, ymin), \n",
    "                                 width=width, height=height, \n",
    "                                 color='C1', alpha=0.2)\n",
    "        ax1.add_patch(rect)"
   ]
  },
  {
   "cell_type": "markdown",
   "id": "ad4678a2-88a4-49c3-9616-0336ae6793f2",
   "metadata": {},
   "source": [
    "Repeat plot overplotting the telluric windows"
   ]
  },
  {
   "cell_type": "code",
   "execution_count": null,
   "id": "5c3559c7-3f79-4a44-bc12-d4ecaea2a722",
   "metadata": {},
   "outputs": [],
   "source": [
    "fig, ax1 = plt.subplots(figsize=(10, 5))\n",
    "\n",
    "ax2 = plot_data(ax1)\n",
    "display_legend(ax1, ax2)\n",
    "plot_telluric_windows(ax1)\n",
    "\n",
    "plt.tight_layout()\n",
    "plt.show()"
   ]
  },
  {
   "cell_type": "markdown",
   "id": "0374b44a-42f5-424a-8070-db50e9d8ee2b",
   "metadata": {},
   "source": [
    "We assign a very small weight to the spectral data points corresponding to the problematic regions (`weight_bad_region = 0.001`; the weight of a normal point will be `1.0`). Note that we keep these points nonetheless, so that the fit is computed over the entire spectral range.\n"
   ]
  },
  {
   "cell_type": "code",
   "execution_count": null,
   "id": "b015330b-3b28-4182-bc9d-ba07ae0d865b",
   "metadata": {},
   "outputs": [],
   "source": [
    "naxis1 = len(wavelength)\n",
    "\n",
    "weight = np.ones((naxis1))\n",
    "weight_bad_region = 0.001\n",
    "\n",
    "for w1, w2 in list_bad_regions:\n",
    "    i1 = (np.abs(wavelength.value - w1)).argmin()\n",
    "    i2 = (np.abs(wavelength.value - w2)).argmin()\n",
    "    weight[i1:(i2+1)] = weight_bad_region"
   ]
  },
  {
   "cell_type": "markdown",
   "id": "4c8ac701-4d41-42b1-b4ec-11e1dc49e229",
   "metadata": {},
   "source": [
    "We perform a fit using an adaptive spline (spline fit with movable knots). By trial and error we find that 11 intermediate knots work well."
   ]
  },
  {
   "cell_type": "code",
   "execution_count": null,
   "id": "5151f990-952b-486a-a684-4a2b890b01bf",
   "metadata": {},
   "outputs": [],
   "source": [
    "number_of_intermediate_knots = 11\n",
    "\n",
    "spl = tea.AdaptiveLSQUnivariateSpline(x=wavelength.value, y=response.value, w=weight, \n",
    "                                      t=number_of_intermediate_knots)"
   ]
  },
  {
   "cell_type": "markdown",
   "id": "fb1e0101-4ea6-46a3-8773-6a5c060c5878",
   "metadata": {},
   "source": [
    "Evaluate fit and determine location of knots."
   ]
  },
  {
   "cell_type": "code",
   "execution_count": null,
   "id": "0746021f-eea3-4ddd-b3ec-0c67d342a4d6",
   "metadata": {},
   "outputs": [],
   "source": [
    "response_curve = spl(wavelength.value) * response_units\n",
    "\n",
    "xknots = spl.get_knots()\n",
    "yknots = spl(xknots)"
   ]
  },
  {
   "cell_type": "markdown",
   "id": "a489f5de-623d-46ab-b2da-30e37c45713e",
   "metadata": {},
   "source": [
    "Display data and fit (with knots)"
   ]
  },
  {
   "cell_type": "code",
   "execution_count": null,
   "id": "8847cc9a-d2eb-4fdd-9567-2a2b3c57886c",
   "metadata": {},
   "outputs": [],
   "source": [
    "fig, ax1 = plt.subplots(figsize=(10, 5))\n",
    "\n",
    "ax2 = plot_data(ax1)\n",
    "ax1.plot(xknots, yknots, 'ro', label='spline knots')\n",
    "ax1.plot(wavelength, response_curve, 'r-', label='spline fit')\n",
    "display_legend(ax1, ax2)\n",
    "plot_telluric_windows(ax1)\n",
    "\n",
    "plt.tight_layout()\n",
    "plt.show()"
   ]
  },
  {
   "cell_type": "code",
   "execution_count": null,
   "id": "fd8f3c15-d216-4aa5-9cb4-deba91b6e732",
   "metadata": {},
   "outputs": [],
   "source": [
    "tea.elapsed_time_since(time_ini)"
   ]
  },
  {
   "cell_type": "code",
   "execution_count": null,
   "id": "0ae15d99-bf8d-4e14-8b73-c2a5e945156a",
   "metadata": {},
   "outputs": [],
   "source": []
  }
 ],
 "metadata": {
  "kernelspec": {
   "display_name": "Python 3 (ipykernel)",
   "language": "python",
   "name": "python3"
  },
  "language_info": {
   "codemirror_mode": {
    "name": "ipython",
    "version": 3
   },
   "file_extension": ".py",
   "mimetype": "text/x-python",
   "name": "python",
   "nbconvert_exporter": "python",
   "pygments_lexer": "ipython3",
   "version": "3.12.7"
  }
 },
 "nbformat": 4,
 "nbformat_minor": 5
}
