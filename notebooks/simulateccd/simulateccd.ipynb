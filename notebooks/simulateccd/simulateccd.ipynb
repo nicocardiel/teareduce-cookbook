{
 "cells": [
  {
   "cell_type": "markdown",
   "id": "d07355ed-1032-4c37-89ae-7a54f1e81bd1",
   "metadata": {},
   "source": [
    "# Simulation of CCD images"
   ]
  },
  {
   "cell_type": "markdown",
   "id": "ccd42768-4fa4-40c4-91fd-f3943d30b7f1",
   "metadata": {},
   "source": [
    "With the goal of making it easier to generate simulated astronomical images, **teareduce** provides a class called `SimulateCCDExposure` that simplifies this task."
   ]
  },
  {
   "cell_type": "code",
   "execution_count": null,
   "id": "c1e76853-fef6-4d0f-8545-a5108897d685",
   "metadata": {},
   "outputs": [],
   "source": [
    "import astropy.units as u\n",
    "import matplotlib.pyplot as plt\n",
    "import numpy as np\n",
    "import teareduce as tea"
   ]
  },
  {
   "cell_type": "code",
   "execution_count": null,
   "id": "ce048c0e-60d0-4791-89bf-abb28a71bd42",
   "metadata": {},
   "outputs": [],
   "source": [
    "help(tea.SimulateCCDExposure)"
   ]
  },
  {
   "cell_type": "markdown",
   "id": "3c2ebe5e-4280-4550-b011-5614419f3610",
   "metadata": {},
   "source": [
    "## Simple usage"
   ]
  },
  {
   "cell_type": "markdown",
   "id": "0c3f9efd-5045-46d9-a56f-667c2182832c",
   "metadata": {},
   "source": [
    "Define image basic parameters (dimensions, BITPIX)"
   ]
  },
  {
   "cell_type": "code",
   "execution_count": null,
   "id": "3482180f-9c3e-486f-945b-cd940ef63899",
   "metadata": {},
   "outputs": [],
   "source": [
    "naxis1, naxis2 = 5, 5\n",
    "bitpix = 16"
   ]
  },
  {
   "cell_type": "markdown",
   "id": "d90ee1fa-f345-417e-bbfe-2a33251abd64",
   "metadata": {},
   "source": [
    "Each instance of the `SimulateCCDExposure` class becomes an image generator with the specified properties."
   ]
  },
  {
   "cell_type": "code",
   "execution_count": null,
   "id": "fcfbdecf-81ba-4702-996f-4952b53c2e42",
   "metadata": {},
   "outputs": [],
   "source": [
    "generator = tea.SimulateCCDExposure(\n",
    "    naxis1=naxis1,\n",
    "    naxis2=naxis2,\n",
    "    bitpix=bitpix\n",
    ")"
   ]
  },
  {
   "cell_type": "markdown",
   "id": "fe3eab85-9324-47d0-a080-9287ff2013f5",
   "metadata": {},
   "source": [
    "The generator we have just created contains information about the image dimensions and the BITPIX value, but there are still many attributes left undefined:"
   ]
  },
  {
   "cell_type": "code",
   "execution_count": null,
   "id": "a2fc2f0b-f82b-42a0-a769-bb4df5d7576e",
   "metadata": {},
   "outputs": [],
   "source": [
    "generator"
   ]
  },
  {
   "cell_type": "markdown",
   "id": "cbd73839-bf80-47ca-94a3-ae59483e4242",
   "metadata": {},
   "source": [
    "If we try to use the generator as defined so far to create a bias image, we should encounter an error message."
   ]
  },
  {
   "cell_type": "code",
   "execution_count": null,
   "id": "5c107cfb-9380-4a8f-b5cf-dc42bbd73a01",
   "metadata": {},
   "outputs": [],
   "source": [
    "exposure_bias = generator.run(imgtype='bias')"
   ]
  },
  {
   "cell_type": "markdown",
   "id": "c23410ea-38fb-44e2-8d85-907c0caa9a5d",
   "metadata": {},
   "source": [
    "We can see, then, that to generate a BIAS image we need to construct a generator that includes this information. For example, we can define the generator by specifying, in addition to the dimensions and BITPIX, the bias signal and the readout noise."
   ]
  },
  {
   "cell_type": "code",
   "execution_count": null,
   "id": "0d747570-1737-499e-baf3-3d69e4d12269",
   "metadata": {},
   "outputs": [],
   "source": [
    "generator = tea.SimulateCCDExposure(\n",
    "    naxis1=naxis1, naxis2=naxis2, bitpix=bitpix,\n",
    "    bias=np.ones((naxis2, naxis1))*1000*u.adu,\n",
    "    readout_noise=5*u.adu\n",
    ")\n",
    "\n",
    "generator"
   ]
  },
  {
   "cell_type": "markdown",
   "id": "54799841-ddae-486a-b3df-1954a9dfcbc6",
   "metadata": {},
   "source": [
    "We can then generate a simulated BIAS image using the method `run(imgtype='bias')`:\n"
   ]
  },
  {
   "cell_type": "code",
   "execution_count": null,
   "id": "084c42e2-fd8c-43bc-a482-dafbac8be9ef",
   "metadata": {},
   "outputs": [],
   "source": [
    "exposure_bias = generator.run(imgtype='bias')"
   ]
  },
  {
   "cell_type": "markdown",
   "id": "40b0f406-2e6f-42b9-9096-580eedc6aff0",
   "metadata": {},
   "source": [
    "The result is an object of type `SimulatedCCDResult`, which contains not only the simulated image but also all the information used to define the generator that was employed."
   ]
  },
  {
   "cell_type": "code",
   "execution_count": null,
   "id": "1f7f0b5c-fcfe-4911-9bd2-9c441f768a8d",
   "metadata": {},
   "outputs": [],
   "source": [
    "type(exposure_bias)"
   ]
  },
  {
   "cell_type": "code",
   "execution_count": null,
   "id": "1a0ac8b4-4629-4869-819a-a3065684b244",
   "metadata": {},
   "outputs": [],
   "source": [
    "exposure_bias"
   ]
  },
  {
   "cell_type": "markdown",
   "id": "4f57f45d-c8cd-44d3-bc25-afa3045826a4",
   "metadata": {},
   "source": [
    "The `.data` attribute contains the NumPy array with the simulated image."
   ]
  },
  {
   "cell_type": "code",
   "execution_count": null,
   "id": "6acc0c52-25f3-4aa5-a6ba-672cbe701a81",
   "metadata": {},
   "outputs": [],
   "source": [
    "type(exposure_bias.data)"
   ]
  },
  {
   "cell_type": "code",
   "execution_count": null,
   "id": "e15ded9a-264c-4ec2-b001-dd09bc27db74",
   "metadata": {},
   "outputs": [],
   "source": [
    "tea.imshowme(exposure_bias.data, ds9mode=True)\n",
    "plt.tight_layout()"
   ]
  },
  {
   "cell_type": "markdown",
   "id": "84b4670c-1c12-4bce-9725-166c7f35319b",
   "metadata": {},
   "source": [
    "**Documentation pending update from this point**"
   ]
  },
  {
   "cell_type": "code",
   "execution_count": null,
   "id": "e8babed1-4e8f-40c1-8340-3e84db6d6ad3",
   "metadata": {},
   "outputs": [],
   "source": []
  }
 ],
 "metadata": {
  "kernelspec": {
   "display_name": "Python 3 (ipykernel)",
   "language": "python",
   "name": "python3"
  },
  "language_info": {
   "codemirror_mode": {
    "name": "ipython",
    "version": 3
   },
   "file_extension": ".py",
   "mimetype": "text/x-python",
   "name": "python",
   "nbconvert_exporter": "python",
   "pygments_lexer": "ipython3",
   "version": "3.12.7"
  }
 },
 "nbformat": 4,
 "nbformat_minor": 5
}
