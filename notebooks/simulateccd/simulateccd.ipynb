{
 "cells": [
  {
   "cell_type": "markdown",
   "id": "d07355ed-1032-4c37-89ae-7a54f1e81bd1",
   "metadata": {},
   "source": [
    "# Simulation of CCD images"
   ]
  },
  {
   "cell_type": "markdown",
   "id": "ccd42768-4fa4-40c4-91fd-f3943d30b7f1",
   "metadata": {},
   "source": [
    "With the goal of making it easier to generate simulated astronomical images, **teareduce** provides a class called `SimulateCCDExposure` that simplifies this task."
   ]
  },
  {
   "cell_type": "code",
   "execution_count": 30,
   "id": "c1e76853-fef6-4d0f-8545-a5108897d685",
   "metadata": {},
   "outputs": [],
   "source": [
    "import astropy.units as u\n",
    "import matplotlib.pyplot as plt\n",
    "import numpy as np\n",
    "import teareduce as tea"
   ]
  },
  {
   "cell_type": "code",
   "execution_count": 31,
   "id": "ce048c0e-60d0-4791-89bf-abb28a71bd42",
   "metadata": {},
   "outputs": [
    {
     "data": {
      "text/plain": [
       "\u001b[0;31mInit signature:\u001b[0m\n",
       "\u001b[0mtea\u001b[0m\u001b[0;34m.\u001b[0m\u001b[0mSimulateCCDExposure\u001b[0m\u001b[0;34m(\u001b[0m\u001b[0;34m\u001b[0m\n",
       "\u001b[0;34m\u001b[0m    \u001b[0mnaxis1\u001b[0m\u001b[0;34m=\u001b[0m\u001b[0;32mNone\u001b[0m\u001b[0;34m,\u001b[0m\u001b[0;34m\u001b[0m\n",
       "\u001b[0;34m\u001b[0m    \u001b[0mnaxis2\u001b[0m\u001b[0;34m=\u001b[0m\u001b[0;32mNone\u001b[0m\u001b[0;34m,\u001b[0m\u001b[0;34m\u001b[0m\n",
       "\u001b[0;34m\u001b[0m    \u001b[0mbitpix\u001b[0m\u001b[0;34m=\u001b[0m\u001b[0;32mNone\u001b[0m\u001b[0;34m,\u001b[0m\u001b[0;34m\u001b[0m\n",
       "\u001b[0;34m\u001b[0m    \u001b[0mbias\u001b[0m\u001b[0;34m=\u001b[0m\u001b[0;34m<\u001b[0m\u001b[0mQuantity\u001b[0m \u001b[0mnan\u001b[0m \u001b[0madu\u001b[0m\u001b[0;34m>\u001b[0m\u001b[0;34m,\u001b[0m\u001b[0;34m\u001b[0m\n",
       "\u001b[0;34m\u001b[0m    \u001b[0mgain\u001b[0m\u001b[0;34m=\u001b[0m\u001b[0;34m<\u001b[0m\u001b[0mQuantity\u001b[0m \u001b[0mnan\u001b[0m \u001b[0melectron\u001b[0m \u001b[0;34m/\u001b[0m \u001b[0madu\u001b[0m\u001b[0;34m>\u001b[0m\u001b[0;34m,\u001b[0m\u001b[0;34m\u001b[0m\n",
       "\u001b[0;34m\u001b[0m    \u001b[0mreadout_noise\u001b[0m\u001b[0;34m=\u001b[0m\u001b[0;34m<\u001b[0m\u001b[0mQuantity\u001b[0m \u001b[0mnan\u001b[0m \u001b[0madu\u001b[0m\u001b[0;34m>\u001b[0m\u001b[0;34m,\u001b[0m\u001b[0;34m\u001b[0m\n",
       "\u001b[0;34m\u001b[0m    \u001b[0mdark\u001b[0m\u001b[0;34m=\u001b[0m\u001b[0;34m<\u001b[0m\u001b[0mQuantity\u001b[0m \u001b[0mnan\u001b[0m \u001b[0madu\u001b[0m\u001b[0;34m>\u001b[0m\u001b[0;34m,\u001b[0m\u001b[0;34m\u001b[0m\n",
       "\u001b[0;34m\u001b[0m    \u001b[0mflatfield\u001b[0m\u001b[0;34m=\u001b[0m\u001b[0mnan\u001b[0m\u001b[0;34m,\u001b[0m\u001b[0;34m\u001b[0m\n",
       "\u001b[0;34m\u001b[0m    \u001b[0mdata_model\u001b[0m\u001b[0;34m=\u001b[0m\u001b[0;34m<\u001b[0m\u001b[0mQuantity\u001b[0m \u001b[0mnan\u001b[0m \u001b[0madu\u001b[0m\u001b[0;34m>\u001b[0m\u001b[0;34m,\u001b[0m\u001b[0;34m\u001b[0m\n",
       "\u001b[0;34m\u001b[0m    \u001b[0mseed\u001b[0m\u001b[0;34m=\u001b[0m\u001b[0;32mNone\u001b[0m\u001b[0;34m,\u001b[0m\u001b[0;34m\u001b[0m\n",
       "\u001b[0;34m\u001b[0m\u001b[0;34m)\u001b[0m\u001b[0;34m\u001b[0m\u001b[0;34m\u001b[0m\u001b[0m\n",
       "\u001b[0;31mDocstring:\u001b[0m     \n",
       "Simulated image generator from first principles.\n",
       "\n",
       "CCD exposures are simulated making use of basic CCD parameters,\n",
       "such as gain, readout noise, bias, dark and flat field.\n",
       "A data model can also be employed to simulate more realising\n",
       "CCD exposures.\n",
       "\n",
       "The saturated pixels in 'data_model' are returned as 2**bitpix - 1\n",
       "in the simulated image (for instance, 65535 when bitpix=16).\n",
       "\n",
       "By initializing the seed of the random number generator\n",
       "when instantiating this class, there is in principle no need to\n",
       "use another seed for the run() method. This is useful for\n",
       "generating reproducible sets of consecutive exposures. In any case,\n",
       "it is also possible to provide a particular seed to the run()\n",
       "method in order to initialize the execution of single exposures.\n",
       "\n",
       "Attributes\n",
       "----------\n",
       "naxis1 : int\n",
       "    NAXIS1 value.\n",
       "naxis2 : int\n",
       "    NAXIS2 value.\n",
       "bitpix : int\n",
       "    BITPIX value.\n",
       "bias : Quantity\n",
       "    Numpy array with the detector bias level (ADU).\n",
       "gain : Quantity\n",
       "    Numpy array with the detector gain (electrons/ADU).\n",
       "readout_noise : Quantity\n",
       "    Numpy array with the readout noise (ADU).\n",
       "dark : Quantity\n",
       "    Numpy array with the total dark current (ADU) for each pixel.\n",
       "    These numbers should not be the dark current rate (ADU/s).\n",
       "    The provided numbers must correspond to the total dark current\n",
       "    since the exposure time is not defined.\n",
       "flatfield : numpy.ndarray\n",
       "    Numpy array with the pixel to pixel sensitivity (without units).\n",
       "data_model : Quantity\n",
       "    Numpy array with the model of the source to be simulated (ADU).\n",
       "seed : int or None\n",
       "    Random number generator seed.\n",
       "_rng : np.random.RandomState\n",
       "    Random number generator.\n",
       "\n",
       "Methods\n",
       "-------\n",
       "set_constant(parameter, value, region)\n",
       "    Set the value of a particular CCD parameter to a constant\n",
       "    value. The parameter can be any of VALID_PARAMETERS. The\n",
       "    constant value can be employed for all pixels or in a specific\n",
       "    region.\n",
       "set_array2d(parameter, value, region)\n",
       "    Set the value of a particular CCD parameter to a 2D array.\n",
       "    The parameter can be any of VALID_PARAMETERS. The 2D array\n",
       "    may correspond to the whole simulated array or to a specific\n",
       "    region.\n",
       "run(imgtype, seed, method)\n",
       "    Execute the generation of the simulated CCD exposure of\n",
       "    type 'imgtype', where 'imgtype' is one of VALID_IMAGE_TYPES.\n",
       "    The signal can be generated using either method: Poisson\n",
       "    or Gaussian. It is possible to set the seed in order to\n",
       "    initialize the random number generator.\n",
       "\u001b[0;31mInit docstring:\u001b[0m\n",
       "Initialize the class attributes.\n",
       "\n",
       "The simulated array dimensions are mandatory. If any additional\n",
       "parameter is not provided, all the pixel values are set to NaN.\n",
       "The values of each parameter can be subsequently modified using\n",
       "methods that allow these values to be changed in specific regions\n",
       "of the CCD.\n",
       "\n",
       "The input parameters must be a Quantity whose value is either\n",
       "a single number, which is expanded to fill the numpy.array,\n",
       "or a numpy.array with the expected shape (NAXIS2, NAXIS1).\n",
       "\n",
       "Parameters\n",
       "----------\n",
       "naxis1 : int\n",
       "    NAXIS1 value.\n",
       "naxis2 : int\n",
       "    NAXIS2 value.\n",
       "bitpix : int\n",
       "    BITPIX value.\n",
       "bias : Quantity\n",
       "    Detector bias level (ADU).\n",
       "gain : Quantity\n",
       "    Detector gain (electrons/ADU).\n",
       "readout_noise : Quantity\n",
       "    Readout noise (ADU).\n",
       "dark : Quantity\n",
       "    Total dark current (ADU). This number should not be the\n",
       "    dark current rate (ADU/s). The provided number must\n",
       "    be the total dark current since the exposure time is not\n",
       "    defined.\n",
       "flatfield : float or numpy.ndarray\n",
       "    Pixel to pixel sensitivity (without units).\n",
       "data_model : Quantity\n",
       "    Model of the source to be simulated (ADU).\n",
       "seed : int or None\n",
       "    Random number generator seed.\n",
       "\u001b[0;31mFile:\u001b[0m           ~/s/teareduce/z_devel/teareduce/src/teareduce/simulateccdexposure.py\n",
       "\u001b[0;31mType:\u001b[0m           type\n",
       "\u001b[0;31mSubclasses:\u001b[0m     "
      ]
     },
     "metadata": {},
     "output_type": "display_data"
    }
   ],
   "source": [
    "help(tea.SimulateCCDExposure)"
   ]
  },
  {
   "cell_type": "markdown",
   "id": "3c2ebe5e-4280-4550-b011-5614419f3610",
   "metadata": {},
   "source": [
    "## Simple usage"
   ]
  },
  {
   "cell_type": "markdown",
   "id": "0c3f9efd-5045-46d9-a56f-667c2182832c",
   "metadata": {},
   "source": [
    "Define image basic parameters (dimensions, BITPIX)"
   ]
  },
  {
   "cell_type": "code",
   "execution_count": 11,
   "id": "3482180f-9c3e-486f-945b-cd940ef63899",
   "metadata": {},
   "outputs": [],
   "source": [
    "naxis1, naxis2 = 5, 5\n",
    "bitpix = 16"
   ]
  },
  {
   "cell_type": "markdown",
   "id": "d90ee1fa-f345-417e-bbfe-2a33251abd64",
   "metadata": {},
   "source": [
    "Each instance of the `SimulateCCDExposure` class becomes an image generator with the specified properties."
   ]
  },
  {
   "cell_type": "code",
   "execution_count": 12,
   "id": "fcfbdecf-81ba-4702-996f-4952b53c2e42",
   "metadata": {},
   "outputs": [],
   "source": [
    "generator = tea.SimulateCCDExposure(\n",
    "    naxis1=naxis1,\n",
    "    naxis2=naxis2,\n",
    "    bitpix=bitpix\n",
    ")"
   ]
  },
  {
   "cell_type": "markdown",
   "id": "fe3eab85-9324-47d0-a080-9287ff2013f5",
   "metadata": {},
   "source": [
    "The generator we have just created contains information about the image dimensions and the BITPIX value, but there are still many attributes left undefined:"
   ]
  },
  {
   "cell_type": "code",
   "execution_count": 13,
   "id": "a2fc2f0b-f82b-42a0-a769-bb4df5d7576e",
   "metadata": {},
   "outputs": [
    {
     "data": {
      "text/plain": [
       "SimulateCCDExposure(\n",
       "    naxis1=5,\n",
       "    naxis2=5,\n",
       "    bitpix=16,\n",
       "    bias=<Quantity [[nan, nan, nan, nan, nan],\n",
       "           [nan, nan, nan, nan, nan],\n",
       "           [nan, nan, nan, nan, nan],\n",
       "           [nan, nan, nan, nan, nan],\n",
       "           [nan, nan, nan, nan, nan]] adu>,\n",
       "    gain=<Quantity [[nan, nan, nan, nan, nan],\n",
       "           [nan, nan, nan, nan, nan],\n",
       "           [nan, nan, nan, nan, nan],\n",
       "           [nan, nan, nan, nan, nan],\n",
       "           [nan, nan, nan, nan, nan]] electron / adu>,\n",
       "    readout_noise=<Quantity [[nan, nan, nan, nan, nan],\n",
       "           [nan, nan, nan, nan, nan],\n",
       "           [nan, nan, nan, nan, nan],\n",
       "           [nan, nan, nan, nan, nan],\n",
       "           [nan, nan, nan, nan, nan]] adu>,\n",
       "    dark=<Quantity [[nan, nan, nan, nan, nan],\n",
       "           [nan, nan, nan, nan, nan],\n",
       "           [nan, nan, nan, nan, nan],\n",
       "           [nan, nan, nan, nan, nan],\n",
       "           [nan, nan, nan, nan, nan]] adu>,\n",
       "    flatfield=array([[nan, nan, nan, nan, nan],\n",
       "       [nan, nan, nan, nan, nan],\n",
       "       [nan, nan, nan, nan, nan],\n",
       "       [nan, nan, nan, nan, nan],\n",
       "       [nan, nan, nan, nan, nan]]),\n",
       "    data_model=<Quantity [[nan, nan, nan, nan, nan],\n",
       "           [nan, nan, nan, nan, nan],\n",
       "           [nan, nan, nan, nan, nan],\n",
       "           [nan, nan, nan, nan, nan],\n",
       "           [nan, nan, nan, nan, nan]] adu>,\n",
       "    seed=None,\n",
       ")"
      ]
     },
     "execution_count": 13,
     "metadata": {},
     "output_type": "execute_result"
    }
   ],
   "source": [
    "generator"
   ]
  },
  {
   "cell_type": "markdown",
   "id": "cbd73839-bf80-47ca-94a3-ae59483e4242",
   "metadata": {},
   "source": [
    "If we try to use the generator as defined so far to create a bias image, we should encounter an error message."
   ]
  },
  {
   "cell_type": "code",
   "execution_count": 14,
   "id": "5c107cfb-9380-4a8f-b5cf-dc42bbd73a01",
   "metadata": {},
   "outputs": [
    {
     "ename": "ValueError",
     "evalue": "The parameter 'bias' contains NaN",
     "output_type": "error",
     "traceback": [
      "\u001b[0;31m---------------------------------------------------------------------------\u001b[0m",
      "\u001b[0;31mValueError\u001b[0m                                Traceback (most recent call last)",
      "Cell \u001b[0;32mIn[14], line 1\u001b[0m\n\u001b[0;32m----> 1\u001b[0m exposure_bias \u001b[38;5;241m=\u001b[39m \u001b[43mgenerator\u001b[49m\u001b[38;5;241;43m.\u001b[39;49m\u001b[43mrun\u001b[49m\u001b[43m(\u001b[49m\u001b[43mimgtype\u001b[49m\u001b[38;5;241;43m=\u001b[39;49m\u001b[38;5;124;43m'\u001b[39;49m\u001b[38;5;124;43mbias\u001b[39;49m\u001b[38;5;124;43m'\u001b[39;49m\u001b[43m)\u001b[49m\n",
      "File \u001b[0;32m~/s/teareduce/z_devel/teareduce/src/teareduce/simulateccdexposure.py:587\u001b[0m, in \u001b[0;36mSimulateCCDExposure.run\u001b[0;34m(self, imgtype, method, seed)\u001b[0m\n\u001b[1;32m    585\u001b[0m \u001b[38;5;66;03m# BIAS and Readout Noise\u001b[39;00m\n\u001b[1;32m    586\u001b[0m \u001b[38;5;28;01mif\u001b[39;00m np\u001b[38;5;241m.\u001b[39misnan(\u001b[38;5;28mself\u001b[39m\u001b[38;5;241m.\u001b[39mbias\u001b[38;5;241m.\u001b[39mvalue)\u001b[38;5;241m.\u001b[39many():\n\u001b[0;32m--> 587\u001b[0m     \u001b[38;5;28;01mraise\u001b[39;00m \u001b[38;5;167;01mValueError\u001b[39;00m(\u001b[38;5;124m\"\u001b[39m\u001b[38;5;124mThe parameter \u001b[39m\u001b[38;5;124m'\u001b[39m\u001b[38;5;124mbias\u001b[39m\u001b[38;5;124m'\u001b[39m\u001b[38;5;124m contains NaN\u001b[39m\u001b[38;5;124m\"\u001b[39m)\n\u001b[1;32m    588\u001b[0m \u001b[38;5;28;01mif\u001b[39;00m np\u001b[38;5;241m.\u001b[39misnan(\u001b[38;5;28mself\u001b[39m\u001b[38;5;241m.\u001b[39mreadout_noise\u001b[38;5;241m.\u001b[39mvalue)\u001b[38;5;241m.\u001b[39many():\n\u001b[1;32m    589\u001b[0m     \u001b[38;5;28;01mraise\u001b[39;00m \u001b[38;5;167;01mValueError\u001b[39;00m(\u001b[38;5;124m\"\u001b[39m\u001b[38;5;124mThe parameter \u001b[39m\u001b[38;5;124m'\u001b[39m\u001b[38;5;124mreadout_noise\u001b[39m\u001b[38;5;124m'\u001b[39m\u001b[38;5;124m contains NaN\u001b[39m\u001b[38;5;124m\"\u001b[39m)\n",
      "\u001b[0;31mValueError\u001b[0m: The parameter 'bias' contains NaN"
     ]
    }
   ],
   "source": [
    "exposure_bias = generator.run(imgtype='bias')"
   ]
  },
  {
   "cell_type": "markdown",
   "id": "c23410ea-38fb-44e2-8d85-907c0caa9a5d",
   "metadata": {},
   "source": [
    "We can see, then, that to generate a BIAS image we need to construct a generator that includes this information. For example, we can define the generator by specifying, in addition to the dimensions and BITPIX, the bias signal and the readout noise."
   ]
  },
  {
   "cell_type": "code",
   "execution_count": 18,
   "id": "0d747570-1737-499e-baf3-3d69e4d12269",
   "metadata": {},
   "outputs": [
    {
     "data": {
      "text/plain": [
       "SimulateCCDExposure(\n",
       "    naxis1=5,\n",
       "    naxis2=5,\n",
       "    bitpix=16,\n",
       "    bias=<Quantity [[1000., 1000., 1000., 1000., 1000.],\n",
       "           [1000., 1000., 1000., 1000., 1000.],\n",
       "           [1000., 1000., 1000., 1000., 1000.],\n",
       "           [1000., 1000., 1000., 1000., 1000.],\n",
       "           [1000., 1000., 1000., 1000., 1000.]] adu>,\n",
       "    gain=<Quantity [[nan, nan, nan, nan, nan],\n",
       "           [nan, nan, nan, nan, nan],\n",
       "           [nan, nan, nan, nan, nan],\n",
       "           [nan, nan, nan, nan, nan],\n",
       "           [nan, nan, nan, nan, nan]] electron / adu>,\n",
       "    readout_noise=<Quantity [[5., 5., 5., 5., 5.],\n",
       "           [5., 5., 5., 5., 5.],\n",
       "           [5., 5., 5., 5., 5.],\n",
       "           [5., 5., 5., 5., 5.],\n",
       "           [5., 5., 5., 5., 5.]] adu>,\n",
       "    dark=<Quantity [[nan, nan, nan, nan, nan],\n",
       "           [nan, nan, nan, nan, nan],\n",
       "           [nan, nan, nan, nan, nan],\n",
       "           [nan, nan, nan, nan, nan],\n",
       "           [nan, nan, nan, nan, nan]] adu>,\n",
       "    flatfield=array([[nan, nan, nan, nan, nan],\n",
       "       [nan, nan, nan, nan, nan],\n",
       "       [nan, nan, nan, nan, nan],\n",
       "       [nan, nan, nan, nan, nan],\n",
       "       [nan, nan, nan, nan, nan]]),\n",
       "    data_model=<Quantity [[nan, nan, nan, nan, nan],\n",
       "           [nan, nan, nan, nan, nan],\n",
       "           [nan, nan, nan, nan, nan],\n",
       "           [nan, nan, nan, nan, nan],\n",
       "           [nan, nan, nan, nan, nan]] adu>,\n",
       "    seed=None,\n",
       ")"
      ]
     },
     "execution_count": 18,
     "metadata": {},
     "output_type": "execute_result"
    }
   ],
   "source": [
    "generator = tea.SimulateCCDExposure(\n",
    "    naxis1=naxis1, naxis2=naxis2, bitpix=bitpix,\n",
    "    bias=np.ones((naxis2, naxis1))*1000*u.adu,\n",
    "    readout_noise=5*u.adu\n",
    ")\n",
    "\n",
    "generator"
   ]
  },
  {
   "cell_type": "markdown",
   "id": "54799841-ddae-486a-b3df-1954a9dfcbc6",
   "metadata": {},
   "source": [
    "We can then generate a simulated BIAS image using the method `run(imgtype='bias')`:\n"
   ]
  },
  {
   "cell_type": "code",
   "execution_count": 23,
   "id": "084c42e2-fd8c-43bc-a482-dafbac8be9ef",
   "metadata": {},
   "outputs": [],
   "source": [
    "exposure_bias = generator.run(imgtype='bias')"
   ]
  },
  {
   "cell_type": "markdown",
   "id": "40b0f406-2e6f-42b9-9096-580eedc6aff0",
   "metadata": {},
   "source": [
    "The result is an object of type `SimulatedCCDResult`, which contains not only the simulated image but also all the information used to define the generator that was employed."
   ]
  },
  {
   "cell_type": "code",
   "execution_count": 24,
   "id": "1f7f0b5c-fcfe-4911-9bd2-9c441f768a8d",
   "metadata": {},
   "outputs": [
    {
     "data": {
      "text/plain": [
       "teareduce.simulateccdexposure.SimulatedCCDResult"
      ]
     },
     "execution_count": 24,
     "metadata": {},
     "output_type": "execute_result"
    }
   ],
   "source": [
    "type(exposure_bias)"
   ]
  },
  {
   "cell_type": "code",
   "execution_count": 25,
   "id": "1a0ac8b4-4629-4869-819a-a3065684b244",
   "metadata": {},
   "outputs": [
    {
     "data": {
      "text/plain": [
       "SimulatedCCDResult(\n",
       "    data=array([[1000.1925808 ,  999.95628448, 1015.8905277 ,  998.41761714,\n",
       "         990.688005  ],\n",
       "       [ 994.19154119,  997.1899952 ,  995.04845501, 1007.12629194,\n",
       "        1000.56124074],\n",
       "       [ 991.2698078 , 1002.13446229,  995.93192371,  995.492847  ,\n",
       "        1004.4622952 ],\n",
       "       [1003.34849112,  999.94028467,  994.98692802,  994.95558936,\n",
       "         994.09135437],\n",
       "       [ 994.31189766,  998.99457005,  996.76275238, 1001.77777022,\n",
       "        1002.23440846]]),\n",
       "    unit=Unit(\"adu\"),\n",
       "    imgtype='bias',\n",
       "    method='poisson',\n",
       "    origin=SimulateCCDExposure(\n",
       "    naxis1=5,\n",
       "    naxis2=5,\n",
       "    bitpix=16,\n",
       "    bias=<Quantity [[1000., 1000., 1000., 1000., 1000.],\n",
       "           [1000., 1000., 1000., 1000., 1000.],\n",
       "           [1000., 1000., 1000., 1000., 1000.],\n",
       "           [1000., 1000., 1000., 1000., 1000.],\n",
       "           [1000., 1000., 1000., 1000., 1000.]] adu>,\n",
       "    gain=<Quantity [[nan, nan, nan, nan, nan],\n",
       "           [nan, nan, nan, nan, nan],\n",
       "           [nan, nan, nan, nan, nan],\n",
       "           [nan, nan, nan, nan, nan],\n",
       "           [nan, nan, nan, nan, nan]] electron / adu>,\n",
       "    readout_noise=<Quantity [[5., 5., 5., 5., 5.],\n",
       "           [5., 5., 5., 5., 5.],\n",
       "           [5., 5., 5., 5., 5.],\n",
       "           [5., 5., 5., 5., 5.],\n",
       "           [5., 5., 5., 5., 5.]] adu>,\n",
       "    dark=<Quantity [[nan, nan, nan, nan, nan],\n",
       "           [nan, nan, nan, nan, nan],\n",
       "           [nan, nan, nan, nan, nan],\n",
       "           [nan, nan, nan, nan, nan],\n",
       "           [nan, nan, nan, nan, nan]] adu>,\n",
       "    flatfield=array([[nan, nan, nan, nan, nan],\n",
       "       [nan, nan, nan, nan, nan],\n",
       "       [nan, nan, nan, nan, nan],\n",
       "       [nan, nan, nan, nan, nan],\n",
       "       [nan, nan, nan, nan, nan]]),\n",
       "    data_model=<Quantity [[nan, nan, nan, nan, nan],\n",
       "           [nan, nan, nan, nan, nan],\n",
       "           [nan, nan, nan, nan, nan],\n",
       "           [nan, nan, nan, nan, nan],\n",
       "           [nan, nan, nan, nan, nan]] adu>,\n",
       "    seed=None,\n",
       "),\n",
       "    seed=None,\n",
       ")"
      ]
     },
     "execution_count": 25,
     "metadata": {},
     "output_type": "execute_result"
    }
   ],
   "source": [
    "exposure_bias"
   ]
  },
  {
   "cell_type": "markdown",
   "id": "4f57f45d-c8cd-44d3-bc25-afa3045826a4",
   "metadata": {},
   "source": [
    "The `.data` attribute contains the NumPy array with the simulated image."
   ]
  },
  {
   "cell_type": "code",
   "execution_count": 28,
   "id": "6acc0c52-25f3-4aa5-a6ba-672cbe701a81",
   "metadata": {},
   "outputs": [
    {
     "data": {
      "text/plain": [
       "numpy.ndarray"
      ]
     },
     "execution_count": 28,
     "metadata": {},
     "output_type": "execute_result"
    }
   ],
   "source": [
    "type(exposure_bias.data)"
   ]
  },
  {
   "cell_type": "code",
   "execution_count": 35,
   "id": "e15ded9a-264c-4ec2-b001-dd09bc27db74",
   "metadata": {},
   "outputs": [
    {
     "data": {
      "image/png": "[encoded data removed]",
      "text/plain": [
       "<Figure size 640x480 with 2 Axes>"
      ]
     },
     "metadata": {},
     "output_type": "display_data"
    }
   ],
   "source": [
    "tea.imshowme(exposure_bias.data, ds9mode=True)\n",
    "plt.tight_layout()"
   ]
  },
  {
   "cell_type": "markdown",
   "id": "84b4670c-1c12-4bce-9725-166c7f35319b",
   "metadata": {},
   "source": [
    "**Documentation pending update from this point**"
   ]
  },
  {
   "cell_type": "code",
   "execution_count": null,
   "id": "e8babed1-4e8f-40c1-8340-3e84db6d6ad3",
   "metadata": {},
   "outputs": [],
   "source": []
  }
 ],
 "metadata": {
  "kernelspec": {
   "display_name": "Python 3 (ipykernel)",
   "language": "python",
   "name": "python3"
  },
  "language_info": {
   "codemirror_mode": {
    "name": "ipython",
    "version": 3
   },
   "file_extension": ".py",
   "mimetype": "text/x-python",
   "name": "python",
   "nbconvert_exporter": "python",
   "pygments_lexer": "ipython3",
   "version": "3.12.7"
  }
 },
 "nbformat": 4,
 "nbformat_minor": 5
}
