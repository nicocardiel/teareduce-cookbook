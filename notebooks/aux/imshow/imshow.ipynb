{
 "cells": [
  {
   "cell_type": "markdown",
   "id": "0bc56ed4-0574-466d-93c7-24125d12c20e",
   "metadata": {},
   "source": [
    "# The imshow wrapper"
   ]
  },
  {
   "cell_type": "markdown",
   "id": "2526ecb5-3fab-4fde-adc4-a3a14b42bbe7",
   "metadata": {},
   "source": [
    "To simplify the use of Matplotlib's [imshow](https://matplotlib.org/stable/api/_as_gen/matplotlib.pyplot.imshow.html) function, **teareduce** includes a wrapper that automatically adds a colorbar. This is especially useful when analyzing astronomical images. Additionally, for wavelength-calibrated spectroscopic exposures, it allows the wavelength scale to be displayed on the horizontal axis."
   ]
  },
  {
   "cell_type": "code",
   "execution_count": null,
   "id": "4d2171ff-a215-4a68-8ab8-8452ec51080f",
   "metadata": {},
   "outputs": [],
   "source": [
    "from astropy.io import fits\n",
    "import astropy.units as u\n",
    "import matplotlib.pyplot as plt\n",
    "import teareduce as tea"
   ]
  },
  {
   "cell_type": "markdown",
   "id": "ca13dc3e-d8d0-47a9-ba66-4d08fa400a32",
   "metadata": {},
   "source": [
    "Download the required file"
   ]
  },
  {
   "cell_type": "code",
   "execution_count": null,
   "id": "2c641fa3-4bee-4368-8872-7103f8206b09",
   "metadata": {},
   "outputs": [],
   "source": [
    "tea.get_cookbook_file('notebooks/aux/imshow/wcftdz_45330.fits')"
   ]
  },
  {
   "cell_type": "markdown",
   "id": "d30621ac-8a1e-4195-90ba-800ae5fa04e8",
   "metadata": {},
   "source": [
    "We read the sample image."
   ]
  },
  {
   "cell_type": "code",
   "execution_count": null,
   "id": "92959028-a637-4a9a-8309-4e3df1cdfb13",
   "metadata": {},
   "outputs": [],
   "source": [
    "with fits.open('wcftdz_45330.fits') as hdul:\n",
    "    header = hdul[0].header\n",
    "    data = hdul[0].data"
   ]
  },
  {
   "cell_type": "markdown",
   "id": "1305d62f-14ad-4207-bc88-ae1f45bc0583",
   "metadata": {},
   "source": [
    "This image is wavelength calibrated."
   ]
  },
  {
   "cell_type": "code",
   "execution_count": null,
   "id": "8272bc18-15f7-4e5b-80bd-adb596bd0568",
   "metadata": {},
   "outputs": [],
   "source": [
    "for key in ['CRPIX1', 'CRVAL1', 'CDELT1', 'CUNIT1']:\n",
    "    print(f'{key}: {header[key]}')"
   ]
  },
  {
   "cell_type": "markdown",
   "id": "b1670193-4f49-4473-b09a-0def213f8a6c",
   "metadata": {},
   "source": [
    "## Simple usage\n",
    "\n",
    "With a single instruction we can display the data array, including a colorbar and automatic labels. For that purpose we can employ the auxiliary `imshowme()` function."
   ]
  },
  {
   "cell_type": "code",
   "execution_count": null,
   "id": "23d78b0a-d433-4894-8711-c0b4ad379d9a",
   "metadata": {},
   "outputs": [],
   "source": [
    "tea.imshowme(data)"
   ]
  },
  {
   "cell_type": "markdown",
   "id": "ded75749-0acd-4d28-905c-a2f88a2ae091",
   "metadata": {},
   "source": [
    "This function is actually calling the `tea.imshow()` function described next by setting default values for the Figure and Axis objects."
   ]
  },
  {
   "cell_type": "markdown",
   "id": "bfbdfc9f-371c-4764-9e46-65edb8a9f93d",
   "metadata": {},
   "source": [
    "## Setting the figure size\n",
    "\n",
    "It is possible to transfer user-defined Figure and Axis instances."
   ]
  },
  {
   "cell_type": "code",
   "execution_count": null,
   "id": "e9a6fa82-42fb-4a26-b49d-5fe215764594",
   "metadata": {},
   "outputs": [],
   "source": [
    "fig, ax = plt.subplots(figsize=(10, 5))\n",
    "tea.imshow(fig, ax, data)\n",
    "plt.tight_layout()"
   ]
  },
  {
   "cell_type": "markdown",
   "id": "7c633572-c6da-4653-9d19-72a0b56e9be8",
   "metadata": {},
   "source": [
    "By default, the image is displayed using `aspect='equal'`. This can be easily modified:"
   ]
  },
  {
   "cell_type": "code",
   "execution_count": null,
   "id": "bbcdb99b-c59d-4ffe-8515-3926b8e0bb78",
   "metadata": {},
   "outputs": [],
   "source": [
    "fig, ax = plt.subplots(figsize=(10, 5))\n",
    "tea.imshow(fig, ax, data, aspect='auto')\n",
    "plt.tight_layout()"
   ]
  },
  {
   "cell_type": "markdown",
   "id": "ec89681a-2270-4114-9638-031f4c951f7d",
   "metadata": {},
   "source": [
    "## Displaying the wavelength \n",
    "\n",
    "For images calibrated in wavelength, we can specify the keywords that contain the corresponding information. This allows the figure to display a wavelength scale on the bottom horizontal axis, showing in this case the array index scale on the top horizontal axis. The units on the wavelength axis may differ from those used in the wavelength calibration."
   ]
  },
  {
   "cell_type": "code",
   "execution_count": null,
   "id": "71b570c1-d6e0-4977-bd5e-1e9d3b725a88",
   "metadata": {},
   "outputs": [],
   "source": [
    "cunit1 = u.Unit(header['cunit1'])\n",
    "crpix1 = header['crpix1'] * u.pix\n",
    "crval1 = header['crval1'] * cunit1\n",
    "cdelt1 = header['cdelt1'] * cunit1 / u.pix\n",
    "\n",
    "print(f'{cunit1=}\\n{crpix1=}\\n{crval1=}\\n{cdelt1=}')"
   ]
  },
  {
   "cell_type": "code",
   "execution_count": null,
   "id": "1f94562d-f559-4db9-b5df-0bc07c0667f6",
   "metadata": {},
   "outputs": [],
   "source": [
    "fig, ax = plt.subplots(figsize=(10, 5))\n",
    "tea.imshow(fig, ax, data,\n",
    "           crpix1=crpix1,\n",
    "           crval1=crval1,\n",
    "           cdelt1=cdelt1,\n",
    "           cunit1=cunit1,\n",
    "           cunitx=u.Angstrom\n",
    "          )\n",
    "plt.tight_layout()"
   ]
  },
  {
   "cell_type": "markdown",
   "id": "7a0d29e2-73b9-4363-8fb1-68f138a94709",
   "metadata": {},
   "source": [
    "## Function documentation\n",
    "\n",
    "Note that keyword arguments not defined in the `tea.imshow()` are passed to the original Matplotlib `imshow()` function."
   ]
  },
  {
   "cell_type": "code",
   "execution_count": null,
   "id": "23bd8edd-4d7a-4a46-afc2-fb6095e721c1",
   "metadata": {},
   "outputs": [],
   "source": [
    "help(tea.imshow)"
   ]
  },
  {
   "cell_type": "code",
   "execution_count": null,
   "id": "fe0f9b39-f6f4-4c8a-a611-37d0b9a26aa9",
   "metadata": {},
   "outputs": [],
   "source": []
  }
 ],
 "metadata": {
  "kernelspec": {
   "display_name": "Python 3 (ipykernel)",
   "language": "python",
   "name": "python3"
  },
  "language_info": {
   "codemirror_mode": {
    "name": "ipython",
    "version": 3
   },
   "file_extension": ".py",
   "mimetype": "text/x-python",
   "name": "python",
   "nbconvert_exporter": "python",
   "pygments_lexer": "ipython3",
   "version": "3.12.7"
  }
 },
 "nbformat": 4,
 "nbformat_minor": 5
}
