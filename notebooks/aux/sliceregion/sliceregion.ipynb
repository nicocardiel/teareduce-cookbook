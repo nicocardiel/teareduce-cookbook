{
 "cells": [
  {
   "cell_type": "markdown",
   "id": "6bdf8a30-d6da-4f22-8abd-086f6a67adb6",
   "metadata": {},
   "source": [
    "# Auxiliary classes for image slicing\n"
   ]
  },
  {
   "cell_type": "markdown",
   "id": "a05c36f8-4c85-4113-8dd9-55dbe22be5b0",
   "metadata": {},
   "source": [
    "<div class=\"alert alert-block alert-warning\">\n",
    "There are important differences between Python-style and FITS-style indices. For example, in the case of 2D images:<br>\n",
    "<ul>\n",
    "    <li><b>Python-style indexing:</b>\n",
    "        <ul>\n",
    "            <li>intervals are given for NAXIS2 (first index) and NAXIS1 (second index)</li>\n",
    "            <li>indexes start at 0</li>\n",
    "            <li>the range number1:number2 runs from number1 to number2-1 when both number1 and number2 are > 0</li>\n",
    "        </ul></li>\n",
    "    <li><b>FITS-style indexing</b> (inherited from the FORTRAN programming language):\n",
    "        <ul>\n",
    "            <li>intervals are given for NAXIS1 (first index) and NAXIS2 (second index)</li>\n",
    "            <li>indexes start at 1</li>\n",
    "            <li>the range number1:number2 runs from number1 to number2, including both number1 and number2</li>\n",
    "        </ul></li>\n",
    "</ul>\n",
    "\n",
    "</div>"
   ]
  },
  {
   "cell_type": "markdown",
   "id": "0247f292-ecb8-483b-9b75-29bb590dd202",
   "metadata": {},
   "source": [
    "**These differences are an important source of errors**, which in many cases are difficult to detect. To safeguard when writing code that handles FITS images (which have historically used the FORTRAN convention) and NumPy arrays (which naturally use the Python convention), **teareduce** defines classes that require explicitly specifying the convention being used. Subsequently, the corresponding instances have attributes that clearly indicate which convention is applied."
   ]
  },
  {
   "cell_type": "markdown",
   "id": "fdcfd403-a9d8-425a-90bf-030fcc95b6c5",
   "metadata": {},
   "source": [
    "In particular, the following three classes have been defined: `SliceRegion1D`, `SliceRegion2D`, and `SliceRegion3D`. Each of these classes is intended for use with arrays of 1, 2, or 3 dimensions, respectively."
   ]
  },
  {
   "cell_type": "markdown",
   "id": "780b125b-eb6a-4648-9301-1fe26c5093b6",
   "metadata": {},
   "source": [
    "Instances of these classes are defined by specifying two parameters: `region` and `mode`."
   ]
  },
  {
   "cell_type": "markdown",
   "id": "9d26ee29-8d80-4f25-964e-d1d55554746f",
   "metadata": {},
   "source": [
    "## The `region` parameter\n",
    "\n",
    "In all cases, this parameter can be provided using `np.s[]`, `slice()` or as a string."
   ]
  },
  {
   "cell_type": "markdown",
   "id": "8497f019-7e85-457b-a7e6-8266336461a5",
   "metadata": {},
   "source": [
    "- `SliceRegion1D`:\n",
    "  - `np.s_[num1:num2]`\n",
    "  - `slice(num1, num2)`\n",
    "  - a string `'[num1:num2]'`"
   ]
  },
  {
   "cell_type": "markdown",
   "id": "09d3711d-557a-48d6-ab37-089966aefc35",
   "metadata": {},
   "source": [
    "- `SliceRegion2D`:\n",
    "  - `np.s_[num1:num2, num3:num4]`\n",
    "  - `(slice(num1, num2), slice(num3, num4))`\n",
    "  - a string `'[num1:num2, num3:num4]'`"
   ]
  },
  {
   "cell_type": "markdown",
   "id": "eb0b2634-e77a-4017-90e9-1100b6f2c6cd",
   "metadata": {},
   "source": [
    "- `SliceRegion3D`:\n",
    "  - `np.s_[num1:num2, num3:num4, num5:num6]`\n",
    "  - `slice((num1, num2), slice(num3, num4), slice(num5, num6))`\n",
    "  - a string `'[num1:num2, num3:num4, num5:num6]'`"
   ]
  },
  {
   "cell_type": "markdown",
   "id": "d046c7b9-8eca-444f-a2d5-486ebddaecb9",
   "metadata": {},
   "source": [
    "## The `mode` parameter\n",
    "\n",
    "This parameter is a simple string that defines the convention assumed for `region`. It must take one of the following two values: `'fits'` or `'python'`."
   ]
  },
  {
   "cell_type": "markdown",
   "id": "524c74e8-4aec-478d-95d8-1857fdc767dc",
   "metadata": {},
   "source": [
    "## Example of use\n",
    "\n",
    "Let's illustrate its use for the two-dimensional case. The other two cases are similar."
   ]
  },
  {
   "cell_type": "code",
   "execution_count": null,
   "id": "d348b45a-dd09-4ec9-a3b6-bc82347e941e",
   "metadata": {},
   "outputs": [],
   "source": [
    "import numpy as np\n",
    "import teareduce as tea"
   ]
  },
  {
   "cell_type": "markdown",
   "id": "8d537de7-e923-4066-9656-3c3a5e628376",
   "metadata": {},
   "source": [
    "Let's define a region following the FITS convention. We use the three different ways to define the same region."
   ]
  },
  {
   "cell_type": "code",
   "execution_count": null,
   "id": "cc4041fd-eff7-4c13-ba20-52733b334ac2",
   "metadata": {},
   "outputs": [],
   "source": [
    "underscan_region1 = tea.SliceRegion2D(np.s_[6:45, 1:250], mode='fits')\n",
    "underscan_region2 = tea.SliceRegion2D((slice(6, 45), slice(1, 250)), mode='fits')\n",
    "underscan_region3 = tea.SliceRegion2D('[6:45, 1:250]', mode='fits')"
   ]
  },
  {
   "cell_type": "code",
   "execution_count": null,
   "id": "df8ae12f-66b6-4d5f-a4ee-330356d6c1e2",
   "metadata": {},
   "outputs": [],
   "source": [
    "underscan_region1 == underscan_region2"
   ]
  },
  {
   "cell_type": "code",
   "execution_count": null,
   "id": "e2b3c67c-3e2b-400d-b256-984fb4bdba50",
   "metadata": {},
   "outputs": [],
   "source": [
    "underscan_region1 == underscan_region3"
   ]
  },
  {
   "cell_type": "markdown",
   "id": "42b7b2ce-cf85-4c01-99a4-cce3bb55ac40",
   "metadata": {},
   "source": [
    "Once a `SliceRegion2D` object is created, we can display the indices of the corresponding region using either the FITS or Python convention. To do this, we just need to use the `.fits` and `.python` attributes of these objects."
   ]
  },
  {
   "cell_type": "code",
   "execution_count": null,
   "id": "21d0ef09-6636-4f4a-92e5-9432d1098019",
   "metadata": {},
   "outputs": [],
   "source": [
    "underscan_region1.fits"
   ]
  },
  {
   "cell_type": "code",
   "execution_count": null,
   "id": "1776ae0e-fefc-4ae3-9905-bb939bd35544",
   "metadata": {},
   "outputs": [],
   "source": [
    "underscan_region1.python"
   ]
  },
  {
   "cell_type": "markdown",
   "id": "29d03b27-d441-4abd-a8a3-40c7e678e708",
   "metadata": {},
   "source": [
    "We can verify that if we use the Python convention to define the same region, the result is the same."
   ]
  },
  {
   "cell_type": "code",
   "execution_count": null,
   "id": "e1faa5e6-c78b-4aea-b61f-8ef3d585d219",
   "metadata": {},
   "outputs": [],
   "source": [
    "underscan_region4 = tea.SliceRegion2D(np.s_[0:250, 5:45], mode='python')"
   ]
  },
  {
   "cell_type": "code",
   "execution_count": null,
   "id": "54887bd1-fe9f-44c7-a1f5-dd013c6088c8",
   "metadata": {},
   "outputs": [],
   "source": [
    "underscan_region4 == underscan_region1"
   ]
  },
  {
   "cell_type": "code",
   "execution_count": null,
   "id": "2a3dfc2d-3683-4b3c-8878-50a3237a9753",
   "metadata": {},
   "outputs": [],
   "source": []
  }
 ],
 "metadata": {
  "kernelspec": {
   "display_name": "Python 3 (ipykernel)",
   "language": "python",
   "name": "python3"
  },
  "language_info": {
   "codemirror_mode": {
    "name": "ipython",
    "version": 3
   },
   "file_extension": ".py",
   "mimetype": "text/x-python",
   "name": "python",
   "nbconvert_exporter": "python",
   "pygments_lexer": "ipython3",
   "version": "3.12.7"
  }
 },
 "nbformat": 4,
 "nbformat_minor": 5
}
