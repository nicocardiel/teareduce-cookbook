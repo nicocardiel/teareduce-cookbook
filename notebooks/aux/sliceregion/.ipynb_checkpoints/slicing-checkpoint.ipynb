{
 "cells": [
  {
   "cell_type": "markdown",
   "id": "6bdf8a30-d6da-4f22-8abd-086f6a67adb6",
   "metadata": {},
   "source": [
    "# Auxiliary classes for defining regions in astronomical images\n"
   ]
  },
  {
   "cell_type": "markdown",
   "id": "fdcfd403-a9d8-425a-90bf-030fcc95b6c5",
   "metadata": {},
   "source": [
    "TBD: explain how to use `SliceRegion1D`, `SliceRegion2D`, and `SliceRegion3D`"
   ]
  },
  {
   "cell_type": "code",
   "execution_count": null,
   "id": "d348b45a-dd09-4ec9-a3b6-bc82347e941e",
   "metadata": {},
   "outputs": [],
   "source": []
  }
 ],
 "metadata": {
  "kernelspec": {
   "display_name": "Python 3 (ipykernel)",
   "language": "python",
   "name": "python3"
  },
  "language_info": {
   "codemirror_mode": {
    "name": "ipython",
    "version": 3
   },
   "file_extension": ".py",
   "mimetype": "text/x-python",
   "name": "python",
   "nbconvert_exporter": "python",
   "pygments_lexer": "ipython3",
   "version": "3.12.7"
  }
 },
 "nbformat": 4,
 "nbformat_minor": 5
}
