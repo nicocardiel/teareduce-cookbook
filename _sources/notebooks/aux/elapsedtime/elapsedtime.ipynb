{
 "cells": [
  {
   "cell_type": "markdown",
   "id": "4541d3ee-17db-4277-8473-e9ec9123ba74",
   "metadata": {},
   "source": [
    "# Elapsed time and system information"
   ]
  },
  {
   "cell_type": "markdown",
   "id": "5c287086-5284-4d03-879f-f4d45500b4e1",
   "metadata": {},
   "source": [
    "When running complex Jupyter notebooks, or notebooks that require a certain execution time, it is useful to store, at the end of their execution, a summary of the time required for their completion. The function ``elapsed_time_since()`` has been defined not only to provide this information, but also to report other interesting parameters, such as the operating system, and the versions of Python and **teareduce** used. \n",
    "\n",
    "Its usage is very simple: just define a ``datetime`` object at the top of the notebook, and then call the function ``elapsed_time_since()``, passing this initial time as an argument."
   ]
  },
  {
   "cell_type": "code",
   "execution_count": null,
   "id": "b8ea4d61-cca2-4a03-ac90-c486f435a6bf",
   "metadata": {},
   "outputs": [],
   "source": [
    "from datetime import datetime\n",
    "import teareduce as tea\n",
    "import time"
   ]
  },
  {
   "cell_type": "code",
   "execution_count": null,
   "id": "84da5070-0c4f-43da-90d8-27b2f775a53a",
   "metadata": {},
   "outputs": [],
   "source": [
    "time_ini = datetime.now()"
   ]
  },
  {
   "cell_type": "code",
   "execution_count": null,
   "id": "e7ea568f-d48e-4726-9901-5e1d4f492a0b",
   "metadata": {},
   "outputs": [],
   "source": [
    "time.sleep(2)"
   ]
  },
  {
   "cell_type": "code",
   "execution_count": null,
   "id": "035fa124-df62-4fa3-a91e-e71f5101e5b4",
   "metadata": {},
   "outputs": [],
   "source": [
    "tea.elapsed_time_since(time_ini)"
   ]
  },
  {
   "cell_type": "markdown",
   "id": "959bd63a-082d-4fb4-857e-b6297636797d",
   "metadata": {},
   "source": [
    "There is also a related function, named `elapsed_time()`, that perform the same action by making use of two input parameters: the initial and the final time."
   ]
  },
  {
   "cell_type": "code",
   "execution_count": null,
   "id": "5851ba1e-ddec-4d9a-96b3-e9a7b5c37dc2",
   "metadata": {},
   "outputs": [],
   "source": [
    "time_end = datetime.now()\n",
    "\n",
    "tea.elapsed_time(time_ini, time_end)"
   ]
  }
 ],
 "metadata": {
  "kernelspec": {
   "display_name": "Python 3 (ipykernel)",
   "language": "python",
   "name": "python3"
  },
  "language_info": {
   "codemirror_mode": {
    "name": "ipython",
    "version": 3
   },
   "file_extension": ".py",
   "mimetype": "text/x-python",
   "name": "python",
   "nbconvert_exporter": "python",
   "pygments_lexer": "ipython3",
   "version": "3.12.7"
  }
 },
 "nbformat": 4,
 "nbformat_minor": 5
}
