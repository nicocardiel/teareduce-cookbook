{
 "cells": [
  {
   "cell_type": "markdown",
   "id": "112436ea",
   "metadata": {},
   "source": [
    "# Cosmic Ray Removal in Double Exposures"
   ]
  },
  {
   "cell_type": "code",
   "execution_count": null,
   "id": "bbff5546",
   "metadata": {},
   "outputs": [],
   "source": [
    "from astropy.io import fits\n",
    "from astropy.nddata import CCDData\n",
    "from datetime import datetime\n",
    "import matplotlib.pyplot as plt\n",
    "import numpy as np\n",
    "from pathlib import Path\n",
    "import teareduce as tea"
   ]
  },
  {
   "cell_type": "code",
   "execution_count": null,
   "id": "ea695525",
   "metadata": {},
   "outputs": [],
   "source": [
    "time_ini = datetime.now()\n",
    "print(time_ini)"
   ]
  },
  {
   "cell_type": "markdown",
   "id": "e174f161-b28b-43b9-9582-3407f549c753",
   "metadata": {},
   "source": [
    "Download the required files"
   ]
  },
  {
   "cell_type": "code",
   "execution_count": null,
   "id": "a3708ad7-e19b-4a8b-90fe-1b297ef969e0",
   "metadata": {},
   "outputs": [],
   "source": [
    "for fname in [\n",
    "    'notebooks/cr2images/ftdz_45243.fits',\n",
    "    'notebooks/cr2images/ftdz_45244.fits'\n",
    "]:\n",
    "    tea.get_cookbook_file(fname)"
   ]
  },
  {
   "cell_type": "code",
   "execution_count": null,
   "id": "077f1e2e",
   "metadata": {},
   "outputs": [],
   "source": [
    "tea.avoid_astropy_warnings(True)"
   ]
  },
  {
   "cell_type": "markdown",
   "id": "c6003dde",
   "metadata": {},
   "source": [
    "## Cosmic Ray Detection Using Equivalent Exposures\n",
    "\n",
    "When two equivalent exposures are available (same exposure time, similar background and object signal, and identical pointing), cosmic rays can be detected by subtracting one image from the other. If the background signal differs between the images, the strategy described below can still be applied, considering that the average value of the difference may be non-zero.\n",
    "\n",
    "Additionally, if the two images are offset by an integer number of pixels, one image can be shifted and the cosmic ray cleaning process can be performed using only the overlapping region of the two exposures.\n",
    "\n",
    "The cosmic ray detection process proceeds as follows:\n",
    "\n",
    "1. Assume the two arrays are stored in ``data1`` and ``data2``.\n",
    "\n",
    "2. Subtract the images: ``diff = data1 - data2``. Cosmic rays in the first image will appear as very bright pixels (strong positive signal), while those in the second image will appear as very dark pixels (strong negative signal).\n",
    "\n",
    "3. Compute the median and robust standard deviation of ``diff``.\n",
    "\n",
    "4. Identify cosmic ray-affected pixels as those whose signal exceeds the image median by a certain threshold (a multiple of the robust standard deviation). This can be done using ``scipy.ndimage.label()``, which not only detects the affected pixels but also labels them with unique identifiers. Connected pixel structures receive the same label. This results in an array ``labels_pos_peak`` (where *pos* indicates positive values and *peak* refers to the brightest pixels).\n",
    "\n",
    "5. Detect neighboring pixels that may also be affected by cosmic rays using a less strict threshold. This produces an array ``labels_pos_tail`` (*tail* refers to the \"tails\" of cosmic rays, i.e., affected pixels with lower signal).\n",
    "\n",
    "6. Convert ``labels_pos_peak`` to a binary mask ``mask_pos_peak`` (containing only 0s and 1s), where any pixel in ``labels_pos_peak`` with a value greater than zero is set to 1.\n",
    "\n",
    "7. Multiply ``mask_pos_peak`` by ``labels_pos_tail`` to obtain an array ``labels_pos_tail_in_peak``, which contains the labels from ``labels_pos_tail`` corresponding to objects detected in ``labels_pos_peak``.\n",
    "\n",
    "8. Generate a binary mask ``mask_pos_clean``, where pixels in ``labels_pos_tail`` whose labels appear in ``labels_pos_tail_in_peak`` are set to 1. This mask indicates which pixels need to be corrected.\n",
    "\n",
    "9. Replace the affected pixels in ``data1`` with the corresponding values from ``data2`` using ``mask_pos_clean``. If the selected pixels in ``data2`` are also affected by cosmic rays, the correction will fail, but the probability of this is low.\n",
    "\n",
    "10. Repeat the process for the second image, swapping ``data1`` and ``data2`` (i.e., compute ``diff = data2 - data1``) and follow the same steps to detect and correct cosmic rays in ``data2``.\n",
    "\n",
    "All of the above steps are implemented in the auxiliary function ``cr2images()`` defined in the **teareduce** package. Users only need to call this function to perform the cleaning."
   ]
  },
  {
   "cell_type": "markdown",
   "id": "a9ba5245",
   "metadata": {},
   "source": [
    "## Using `cr2images()`\n",
    "\n",
    "We will test the functionality of this function using the two available exposures of the galaxy **UCM1256+2701**."
   ]
  },
  {
   "cell_type": "code",
   "execution_count": null,
   "id": "47f67f05",
   "metadata": {},
   "outputs": [],
   "source": [
    "input_filename1 = 'ftdz_45243.fits'\n",
    "input_filename2 = 'ftdz_45244.fits'"
   ]
  },
  {
   "cell_type": "markdown",
   "id": "f19f5899",
   "metadata": {},
   "source": [
    "We read the headers and data from the two exposures and verify that they correspond to the same object and have the same exposure time."
   ]
  },
  {
   "cell_type": "code",
   "execution_count": null,
   "id": "3183324d",
   "metadata": {},
   "outputs": [],
   "source": [
    "header1 = fits.getheader(input_filename1)\n",
    "data1 = fits.getdata(input_filename1)\n",
    "\n",
    "header2 = fits.getheader(input_filename2)\n",
    "data2 = fits.getdata(input_filename2)\n",
    "\n",
    "print(header1['OBJECT'])\n",
    "print(header2['OBJECT'])\n",
    "\n",
    "print(header1['EXPTIME'])\n",
    "print(header2['EXPTIME'])"
   ]
  },
  {
   "cell_type": "markdown",
   "id": "0ced0f9d",
   "metadata": {},
   "source": [
    "We display the two images to visually compare them."
   ]
  },
  {
   "cell_type": "code",
   "execution_count": null,
   "id": "f858d78c",
   "metadata": {},
   "outputs": [],
   "source": [
    "vmin, vmax = np.percentile(data1, [0, 99.9])\n",
    "\n",
    "for data, header in zip([data1, data2], [header1, header2]):\n",
    "    fig, ax = plt.subplots(figsize=(15, 5))\n",
    "    tea.imshow(fig, ax, data, vmin=vmin, vmax=vmax)\n",
    "    ax.set_title(f'{header[\"OBJECT\"]}: {header[\"FILENAME\"]},  EXPTIME={header[\"EXPTIME\"]}')\n",
    "    plt.show()"
   ]
  },
  {
   "cell_type": "markdown",
   "id": "3d942a95",
   "metadata": {},
   "source": [
    "The images appear to have the same pointing. We zoom in slightly on the bright emission line and adjust the display scaling to better detect the peak of the line."
   ]
  },
  {
   "cell_type": "code",
   "execution_count": null,
   "id": "b06b0102",
   "metadata": {},
   "outputs": [],
   "source": [
    "fig, axarr = plt.subplots(nrows=1, ncols=2, figsize=(10, 5))\n",
    "for iplot, (data, header) in enumerate(zip([data1, data2], [header1, header2])):\n",
    "    ax = axarr[iplot]\n",
    "    tea.imshow(fig, ax, data, vmin=-30, vmax=130)\n",
    "    ax.set_title(f'{header[\"FILENAME\"]}')\n",
    "    ax.set_xlim([562, 588])\n",
    "    ax.set_ylim([125, 150])\n",
    "plt.tight_layout()"
   ]
  },
  {
   "cell_type": "markdown",
   "id": "fd421de7",
   "metadata": {},
   "source": [
    "We can see that there is no offset along the X-axis, but there is along the vertical axis: the image on the right appears 4 pixels higher. This is something to keep in mind."
   ]
  },
  {
   "cell_type": "markdown",
   "id": "b964ae76-c5a1-4a7b-9a1c-06c6dfac1730",
   "metadata": {},
   "source": [
    "We can run `cr2images()` by specifying:\n",
    "\n",
    "- The arrays to be cleaned: `data1` and `data2`.\n",
    "\n",
    "- The offsets `ioffx`, `ioffy`: these must be integers, representing the shift needed to align `data2` with `data1`.\n",
    "\n",
    "- The thresholds for detecting cosmic ray peaks and tails: `tsigma_peak` and `tsigma_tail`. These indicate how many times the robust standard deviation above the image median is used to classify a pixel as a cosmic ray.\n",
    "\n",
    "When executed with these parameters (and no others), the function returns the two arrays cleaned of cosmic rays (referred to here as `data1c` and `data2c`)."
   ]
  },
  {
   "cell_type": "code",
   "execution_count": null,
   "id": "f80805a7",
   "metadata": {},
   "outputs": [],
   "source": [
    "data1c, data2c = tea.cr2images(\n",
    "    data1=data1,\n",
    "    data2=data2,\n",
    "    ioffx=0,\n",
    "    ioffy=-4,\n",
    "    tsigma_peak=10,\n",
    "    tsigma_tail=3\n",
    ")\n"
   ]
  },
  {
   "cell_type": "markdown",
   "id": "a7eb06a0",
   "metadata": {},
   "source": [
    "We check the result of cleaning the first image."
   ]
  },
  {
   "cell_type": "code",
   "execution_count": null,
   "id": "3f5ac97e",
   "metadata": {},
   "outputs": [],
   "source": [
    "vmin, vmax = np.percentile(data1, [0, 99.9])\n",
    "\n",
    "for data, header, when in zip([data1, data1c], \n",
    "                              [header1, header1], \n",
    "                              ['before', 'after']):\n",
    "    fig, ax = plt.subplots(figsize=(15, 5))\n",
    "    tea.imshow(fig, ax, data, vmin=vmin, vmax=vmax)\n",
    "    ax.set_title(f'{header[\"FILENAME\"]} {when} CR removal')\n",
    "    plt.show()"
   ]
  },
  {
   "cell_type": "markdown",
   "id": "388c1646",
   "metadata": {},
   "source": [
    "And now we show the second image before and after cleaning the cosmic rays."
   ]
  },
  {
   "cell_type": "code",
   "execution_count": null,
   "id": "5f9b8185",
   "metadata": {},
   "outputs": [],
   "source": [
    "vmin, vmax = np.percentile(data2, [0, 99.9])\n",
    "\n",
    "for data, header, when in zip([data2, data2c], \n",
    "                              [header2, header2], \n",
    "                              ['before', 'after']):\n",
    "    fig, ax = plt.subplots(figsize=(15, 5))\n",
    "    tea.imshow(fig, ax, data, vmin=vmin, vmax=vmax)\n",
    "    ax.set_title(f'{header[\"FILENAME\"]} {when} CR removal')\n",
    "    plt.show()"
   ]
  },
  {
   "cell_type": "markdown",
   "id": "2086c5b4-ea2d-4dfe-8a46-85579b0e3962",
   "metadata": {},
   "source": [
    "Apparently, the images have been well cleaned. However, we might still wonder whether any signal from the object has been removed, for example in the region of the bright emission line. To find out which pixels were corrected in each case, we can run `cr2images()` specifying that we want to obtain a mask with the positions of the pixels affected by cosmic rays. To do this, we need to use the parameter `return_masks=True`, and keep in mind that the function call now returns four objects."
   ]
  },
  {
   "cell_type": "code",
   "execution_count": null,
   "id": "f72a5080",
   "metadata": {},
   "outputs": [],
   "source": [
    "data1c, data2c, mask_data1c, mask_data2c = tea.cr2images(\n",
    "    data1=data1,\n",
    "    data2=data2,\n",
    "    ioffx=0,\n",
    "    ioffy=-4,\n",
    "    tsigma_peak=10,\n",
    "    tsigma_tail=3,\n",
    "    return_masks=True\n",
    ")"
   ]
  },
  {
   "cell_type": "markdown",
   "id": "abb16078",
   "metadata": {},
   "source": [
    "We draw the first image again, this time three times: before cleaning, before cleaning with red crosses marking the detected cosmic rays, and after cleaning."
   ]
  },
  {
   "cell_type": "code",
   "execution_count": null,
   "id": "da29aeae",
   "metadata": {},
   "outputs": [],
   "source": [
    "vmin, vmax = np.percentile(data1, [0, 99.9])\n",
    "\n",
    "for data, header, when, overplot_mask in zip([data1, data1, data1c], \n",
    "                                             [header1, header1, header1], \n",
    "                                             ['before', 'before', 'after'],\n",
    "                                             [False, True, False]):\n",
    "    fig, ax = plt.subplots(figsize=(15, 5))\n",
    "    tea.imshow(fig, ax, data, vmin=vmin, vmax=vmax)\n",
    "    if overplot_mask:\n",
    "        xyp = np.argwhere(mask_data1c > 0)\n",
    "        xp = [item[1] for item in xyp]\n",
    "        yp = [item[0] for item in xyp]\n",
    "        ax.plot(xp, yp, 'r+')\n",
    "    ax.set_title(f'{header[\"FILENAME\"]} {when} CR removal')\n",
    "    plt.show()"
   ]
  },
  {
   "cell_type": "markdown",
   "id": "2ee25b93",
   "metadata": {},
   "source": [
    "We repeat the same procedure with the second image."
   ]
  },
  {
   "cell_type": "code",
   "execution_count": null,
   "id": "a680c7d6",
   "metadata": {},
   "outputs": [],
   "source": [
    "vmin, vmax = np.percentile(data1, [0, 99.9])\n",
    "\n",
    "for data, header, when, overplot_mask in zip([data2, data2, data2c], \n",
    "                                             [header2, header2, header2], \n",
    "                                             ['before', 'before', 'after'],\n",
    "                                             [False, True, False]):\n",
    "    fig, ax = plt.subplots(figsize=(15, 5))\n",
    "    tea.imshow(fig, ax, data, vmin=vmin, vmax=vmax)\n",
    "    if overplot_mask:\n",
    "        xyp = np.argwhere(mask_data2c > 0)\n",
    "        xp = [item[1] for item in xyp]\n",
    "        yp = [item[0] for item in xyp]\n",
    "        ax.plot(xp, yp, 'r+')\n",
    "    ax.set_title(f'{header[\"FILENAME\"]} {when} CR removal')\n",
    "    plt.show()\n"
   ]
  },
  {
   "cell_type": "markdown",
   "id": "1155f838-54d4-4c6b-bc00-132ecb225fec",
   "metadata": {},
   "source": [
    "To find out whether a cosmic ray hit the same pixel in both exposures, it is enough to multiply the two masks and check if there is any overlap."
   ]
  },
  {
   "cell_type": "code",
   "execution_count": null,
   "id": "ff6adcd4",
   "metadata": {},
   "outputs": [],
   "source": [
    "mask_product = mask_data1c * mask_data2c\n",
    "mask_product.any()"
   ]
  },
  {
   "cell_type": "markdown",
   "id": "8b6abf78",
   "metadata": {},
   "source": [
    "`False` indicates that there has been no overlap."
   ]
  },
  {
   "cell_type": "markdown",
   "id": "67e6ceaf-46ee-48b4-a7e0-5ee594e085ec",
   "metadata": {},
   "source": [
    "## Selecting Regions to Clean\n",
    "\n",
    "The `cr2images()` function allows:\n",
    "\n",
    "- **Option 1**: specify regions that should *not* be cleaned of cosmic rays (using a list of rectangular regions). This is useful when we want to prevent certain areas from being mistakenly corrected. To use this option, you must use the `list_skipped_regions` parameter, which should be a Python list containing objects of type `SliceRegion2D`.\n",
    "\n",
    "- **Option 2**: specify the region *to be* cleaned (rectangular region). This allows cosmic ray removal to be performed in specific areas of the image. To choose this approach, you must use the `image_region` parameter, which should be a single object of type `SliceRegion2D`.\n",
    "\n",
    "The two options above are mutually exclusive (you can choose one or the other, but not both at the same time). Let’s look at both possibilities in practice.\n"
   ]
  },
  {
   "cell_type": "markdown",
   "id": "bab41deb-cd66-4c54-94ef-d7b2c5964e96",
   "metadata": {},
   "source": [
    "### Option 1: Using `list_skipped_regions`\n",
    "\n",
    "We start by excluding a series of regions. For convenience, `cr2images()` can also display the images before and after cleaning the cosmic rays. This option is activated by using `debug_level=1`.\n"
   ]
  },
  {
   "cell_type": "code",
   "execution_count": null,
   "id": "081999b2",
   "metadata": {},
   "outputs": [],
   "source": [
    "list_skipped_regions = [\n",
    "    tea.SliceRegion2D(np.s_[568:594, 85:205], mode='fits'),\n",
    "    tea.SliceRegion2D(np.s_[829:909, 85:205], mode='fits'),\n",
    "]\n",
    "\n",
    "data1c, data2c, mask_data1c, mask_data2c = tea.cr2images(\n",
    "    data1=data1,\n",
    "    data2=data2,\n",
    "    ioffx=0,\n",
    "    ioffy=-4,\n",
    "    tsigma_peak=10,\n",
    "    tsigma_tail=3,\n",
    "    list_skipped_regions=list_skipped_regions,\n",
    "    return_masks=True,\n",
    "    debug_level=1\n",
    ")"
   ]
  },
  {
   "cell_type": "markdown",
   "id": "84cdecdc-e279-48eb-8bcb-c6135821539a",
   "metadata": {},
   "source": [
    "The yellow rectangles indicate regions where the removal of potential cosmic rays was not allowed."
   ]
  },
  {
   "cell_type": "markdown",
   "id": "cd6fba7e-7c2a-4276-955c-d8f2d498bfc9",
   "metadata": {},
   "source": [
    "### Option 2: Using `image_region`\n",
    "\n",
    "In the following execution, we will specify that we want to clean only a specific region of the image:\n"
   ]
  },
  {
   "cell_type": "code",
   "execution_count": null,
   "id": "276074ff",
   "metadata": {},
   "outputs": [],
   "source": [
    "data1c, data2c, mask_data1c, mask_data2c = tea.cr2images(\n",
    "    data1=data1,\n",
    "    data2=data2,\n",
    "    ioffx=0,\n",
    "    ioffy=-4,\n",
    "    tsigma_peak=10,\n",
    "    tsigma_tail=3,\n",
    "    image_region=tea.SliceRegion2D(np.s_[102:539, 22:217], mode='fits'),\n",
    "    return_masks=True,\n",
    "    debug_level=1\n",
    ")"
   ]
  },
  {
   "cell_type": "markdown",
   "id": "0f9f93dc-d3c9-497e-97a0-b5865d2698e2",
   "metadata": {},
   "source": [
    "In this case, the region to be cleaned is shown as a cyan-colored rectangle.\n",
    "\n",
    "The `cr2images()` function also accepts a `maxsize` parameter, which indicates the maximum number of pixels each detected cosmic ray should have (if the number of pixels exceeds this value, the potential cosmic ray is not cleaned).\n"
   ]
  },
  {
   "cell_type": "markdown",
   "id": "d2c2add8-b812-4d71-bb65-6f9956420e17",
   "metadata": {},
   "source": [
    "## Using Images with Extensions (`CCDData` Objects)\n",
    "\n",
    "Since our FITS images have extensions, the best way to work with them is to read each one as an object of type `CCDData`, and proceed to clean the corresponding data arrays before saving the result in a new FITS file that preserves the extensions.\n",
    "\n",
    "Cosmic ray cleaning will be reflected in the `MASK` extension (marking the replaced pixels) and in the `UNCERT` extension, which contains the uncertainty array (replacing with the uncertainties from the companion image).\n",
    "\n",
    "We again start from the pair of images to be cleaned.\n"
   ]
  },
  {
   "cell_type": "code",
   "execution_count": null,
   "id": "29057a72",
   "metadata": {},
   "outputs": [],
   "source": [
    "input_filename1 = 'ftdz_45243.fits'\n",
    "input_filename2 = 'ftdz_45244.fits'"
   ]
  },
  {
   "cell_type": "markdown",
   "id": "07ebe4c8-5331-417a-bb22-726aa3134b4e",
   "metadata": {},
   "source": [
    "We generate two objects of type `CCDData`.\n"
   ]
  },
  {
   "cell_type": "code",
   "execution_count": null,
   "id": "654e289e",
   "metadata": {},
   "outputs": [],
   "source": [
    "ccdimage1 = CCDData.read(input_filename1)\n",
    "ccdimage2 = CCDData.read(input_filename2)"
   ]
  },
  {
   "cell_type": "markdown",
   "id": "361932bc-77bf-4615-b462-672e606a44dd",
   "metadata": {},
   "source": [
    "We duplicate the two objects to store the result of executing the cosmic ray cleaning.\n"
   ]
  },
  {
   "cell_type": "code",
   "execution_count": null,
   "id": "91890851",
   "metadata": {},
   "outputs": [],
   "source": [
    "ccdimage1_clean = ccdimage1.copy()\n",
    "ccdimage2_clean = ccdimage2.copy()"
   ]
  },
  {
   "cell_type": "markdown",
   "id": "1168bf8c-a5ac-459f-90f3-510b115c4d1d",
   "metadata": {},
   "source": [
    "### Cleaning the Data Arrays\n",
    "\n",
    "We perform cosmic ray cleaning only on the data arrays (i.e., the `.data` attributes of the `CCDData` objects), including the computation of the corresponding masks.\n"
   ]
  },
  {
   "cell_type": "code",
   "execution_count": null,
   "id": "6ec9c3b2",
   "metadata": {},
   "outputs": [],
   "source": [
    "ioffx = 0\n",
    "ioffy = -4\n",
    "tsigma_peak = 10\n",
    "tsigma_tail = 3\n",
    "\n",
    "ccdimage1_clean.data, ccdimage2_clean.data, mask_data1c, mask_data2c = tea.cr2images(\n",
    "    data1=ccdimage1.data,\n",
    "    data2=ccdimage2.data,\n",
    "    ioffx=ioffx,\n",
    "    ioffy=ioffy,\n",
    "    tsigma_peak=tsigma_peak,\n",
    "    tsigma_tail=tsigma_tail,\n",
    "    return_masks=True\n",
    ")"
   ]
  },
  {
   "cell_type": "markdown",
   "id": "1f68fc61-ccdf-47cb-a3c4-b3e5983bcedc",
   "metadata": {},
   "source": [
    "We visually verify that the stored images are free of cosmic rays.\n"
   ]
  },
  {
   "cell_type": "code",
   "execution_count": null,
   "id": "fea55269",
   "metadata": {},
   "outputs": [],
   "source": [
    "vmin, vmax = np.percentile(ccdimage1_clean.data, [0, 99.9])\n",
    "\n",
    "for dumdata, title in zip([ccdimage1_clean.data, ccdimage2_clean.data],\n",
    "                          ['ccdimage1_clean.data', 'ccdimage2_clean.data']):\n",
    "    fig, ax = plt.subplots(figsize=(15, 5))\n",
    "    tea.imshow(fig, ax, dumdata, vmin=vmin, vmax=vmax)\n",
    "    ax.set_title(title)\n",
    "    plt.show()"
   ]
  },
  {
   "cell_type": "markdown",
   "id": "82300a84-a585-4f5c-b832-c311dcedef38",
   "metadata": {},
   "source": [
    "### Transferring Cleaned Pixels to the `MASK` Extension\n",
    "\n",
    "We include in the masks of each image (i.e., the `.mask` attributes of the `CCDData` objects) the positions of the cosmic rays. We only modify the pixels indicated in the masks returned by `cr2images()` (in case the masks of the `CCDData` objects already have `True` values before reaching this point). Since the masks computed by `cr2images()` contain values 0 and 1, we convert them to boolean using `.astype(bool)`.\n"
   ]
  },
  {
   "cell_type": "code",
   "execution_count": null,
   "id": "fd2461a7",
   "metadata": {},
   "outputs": [],
   "source": [
    "ccdimage1_clean.mask[mask_data1c.astype(bool)] = True\n",
    "ccdimage2_clean.mask[mask_data2c.astype(bool)] = True"
   ]
  },
  {
   "cell_type": "markdown",
   "id": "f0d113c8-62b3-4c0f-9446-2a29026cbcf1",
   "metadata": {},
   "source": [
    "We check that it works by graphically comparing the calculated mask `mask_data1c` with the one stored in `ccdimage1_clean.mask`.\n"
   ]
  },
  {
   "cell_type": "code",
   "execution_count": null,
   "id": "6f70daf5",
   "metadata": {},
   "outputs": [],
   "source": [
    "for dumdata, title in zip([mask_data1c, ccdimage1_clean.mask.astype(int)],\n",
    "                          ['mask_data1c', 'ccdimage1_clean.mask']):\n",
    "    fig, ax = plt.subplots(figsize=(15, 5))\n",
    "    tea.imshow(fig, ax, dumdata, vmin=0, vmax=1)\n",
    "    ax.set_title(title)\n",
    "    plt.show()"
   ]
  },
  {
   "cell_type": "markdown",
   "id": "d823b4aa-8bf1-4e17-bc6f-28074a6cfaf9",
   "metadata": {},
   "source": [
    "### Transferring the cleaned pixels to the `UNCERT` extension\n",
    "\n",
    "For the uncertainty arrays, we insert into the first image the values from the second (before cleaning), and into the second the values from the first (before cleaning). Here we are assuming that there has been no cosmic ray coincidence, which we already know is something that did not happen in this particular pair of exposures.\n"
   ]
  },
  {
   "cell_type": "code",
   "execution_count": null,
   "id": "82ca7c33",
   "metadata": {},
   "outputs": [],
   "source": [
    "ccdimage1_clean.uncertainty.array[ccdimage1_clean.mask] = \\\n",
    "    ccdimage2.uncertainty.array[ccdimage1_clean.mask]\n",
    "\n",
    "ccdimage2_clean.uncertainty.array[ccdimage2_clean.mask] = \\\n",
    "    ccdimage1.uncertainty.array[ccdimage2_clean.mask]"
   ]
  },
  {
   "cell_type": "markdown",
   "id": "5c6986b4-d3a4-4935-ad2f-fa1d0b6f84e1",
   "metadata": {},
   "source": [
    "We can check graphically whether this has worked by comparing, for example, the uncertainty arrays of the first exposure before and after cosmic ray cleaning.\n"
   ]
  },
  {
   "cell_type": "code",
   "execution_count": null,
   "id": "4c5c82aa",
   "metadata": {},
   "outputs": [],
   "source": [
    "vmin, vmax = np.percentile(ccdimage1.uncertainty.array, [0, 99.9])\n",
    "\n",
    "for dumdata, title in zip([ccdimage1.uncertainty.array, ccdimage1_clean.uncertainty.array],\n",
    "                          ['ccdimage1.uncertainty_array', 'ccdimage1_clean.uncertainty.array']):\n",
    "    fig, ax = plt.subplots(figsize=(15, 5))\n",
    "    tea.imshow(fig, ax, dumdata, vmin=vmin, vmax=vmax)\n",
    "    ax.set_title(title)\n",
    "    plt.show()"
   ]
  },
  {
   "cell_type": "markdown",
   "id": "ad6fa945-d80f-4263-a4d2-f1fb69c3dd76",
   "metadata": {},
   "source": [
    "The bright horizontal lines correspond to the uncertainties introduced by the Flat Field (remember that the slit had defects). What’s important here is that we have been able to replace, in the uncertainty array, the information from another uncertainty array for the pixels affected by cosmic rays.\n"
   ]
  },
  {
   "cell_type": "markdown",
   "id": "b9e5f047-063c-4fda-805c-6db9f2960658",
   "metadata": {},
   "source": [
    "### Saving the result\n",
    "\n",
    "The final step is to save the result, including information in the headers to maintain traceability of the process carried out. The name of the output file is, in each case, the original name with the prefix `c`.\n"
   ]
  },
  {
   "cell_type": "code",
   "execution_count": null,
   "id": "60e12feb",
   "metadata": {},
   "outputs": [],
   "source": [
    "for input_filename, ccdimage_clean in zip([input_filename1, input_filename2],\n",
    "                                          [ccdimage1_clean, ccdimage2_clean]):\n",
    "    # update FILENAME keyword with output file name\n",
    "    output_filename = f'c{input_filename}'\n",
    "    ccdimage_clean.header['FILENAME'] = output_filename\n",
    "    \n",
    "    # update HISTORY in header\n",
    "    ccdimage_clean.header['HISTORY'] = '-------------------'\n",
    "    ccdimage_clean.header['HISTORY'] = f\"{datetime.now().strftime('%Y-%m-%d %H:%M:%S')}\"\n",
    "    ccdimage_clean.header['HISTORY'] = 'using cr2images:'\n",
    "    ccdimage_clean.header['HISTORY'] = f'- infile1: {Path(input_filename1).name}'\n",
    "    ccdimage_clean.header['HISTORY'] = f'- infile2: {Path(input_filename2).name}'\n",
    "    ccdimage_clean.header['HISTORY'] = f'- ioffx: {ioffx}'\n",
    "    ccdimage_clean.header['HISTORY'] = f'- ioffy: {ioffy}'\n",
    "    ccdimage_clean.header['HISTORY'] = f'- tsigma_peak: {tsigma_peak}'\n",
    "    ccdimage_clean.header['HISTORY'] = f'- tsigma_tail: {tsigma_tail}'\n",
    "        \n",
    "    # save result\n",
    "    ccdimage_clean.write(output_filename, overwrite='yes')\n",
    "    print(f'Output file name: {output_filename}')"
   ]
  },
  {
   "cell_type": "markdown",
   "id": "798d60f3-8d05-47d7-a7da-47dc03ee5879",
   "metadata": {},
   "source": [
    "### Auxiliary function `apply_cr2images_ccddata()`\n",
    "\n",
    "To facilitate the handling of `CCDData` objects, we can use the auxiliary function `apply_cr2images_ccddata()`, designed to clean cosmic rays from pairs of images by directly specifying the names of the input and output FITS files (as well as the specific parameters of the `cr2images()` function corresponding to the cosmic ray detection strategy).\n",
    "\n",
    "For example, to clean the pair of images we just used a moment ago, it is enough to run:\n"
   ]
  },
  {
   "cell_type": "code",
   "execution_count": null,
   "id": "622b1019",
   "metadata": {},
   "outputs": [],
   "source": [
    "tea.apply_cr2images_ccddata(\n",
    "    infile1=input_filename1,\n",
    "    infile2=input_filename2,\n",
    "    outfile1=f'cc{input_filename1}',\n",
    "    outfile2=f'cc{input_filename2}',\n",
    "    ioffx=ioffx,\n",
    "    ioffy=ioffy,\n",
    "    tsigma_peak=tsigma_peak,\n",
    "    tsigma_tail=tsigma_tail\n",
    ")"
   ]
  },
  {
   "cell_type": "markdown",
   "id": "07429cb3-5b04-4d25-9c70-c661988904d0",
   "metadata": {},
   "source": [
    "The images `cftdz_45243.fits` and `ccftdz_45243.fits` are identical. The same applies to `cftdz_45244.fits` and `ccftdz_45244.fits`.\n"
   ]
  },
  {
   "cell_type": "markdown",
   "id": "b9c3052e-bcfe-49ca-a826-1264aed24c17",
   "metadata": {},
   "source": [
    "## What happens inside `cr2images()`?\n",
    "\n",
    "We can ask the `cr2images()` function to show us more information about what is happening during its execution. To do this, we use the `debug_level` parameter, which can take the values 0 (no additional information is shown), 1 (images before and after cleaning are shown), and 2 (a data histogram and the intermediate masks calculated are also shown). For example, using `debug_level=1` will display the indices of the arrays corresponding to the overlapping region between the two images and the following images:\n",
    "\n",
    "- `data1`: initial image number 1\n",
    "\n",
    "- `data1 with C.R.`: initial image number 1, with the pixels to be corrected due to cosmic ray impact marked with red crosses\n",
    "\n",
    "- `data1c`: initial image number 1 after cosmic ray removal\n",
    "\n",
    "- `data2`: initial image number 2\n",
    "\n",
    "- `data2 with C.R.`: initial image number 2, with the pixels to be corrected due to cosmic ray impact marked with red crosses\n",
    "\n",
    "- `data2c`: initial image number 2 after cosmic ray removal\n"
   ]
  },
  {
   "cell_type": "code",
   "execution_count": null,
   "id": "86003809",
   "metadata": {},
   "outputs": [],
   "source": [
    "data1c, data2c, mask_data1c, mask_data2c = tea.cr2images(\n",
    "    data1=data1,\n",
    "    data2=data2,\n",
    "    ioffx=0,\n",
    "    ioffy=-4,\n",
    "    tsigma_peak=10,\n",
    "    tsigma_tail=3,\n",
    "    return_masks=True,\n",
    "    debug_level=1\n",
    ")"
   ]
  },
  {
   "cell_type": "markdown",
   "id": "391bd092-b95d-4615-a29d-ad3b25d12980",
   "metadata": {},
   "source": [
    "Using `debug_level=2`, the indices of the arrays corresponding to the overlapping region between the two images will be displayed, along with a histogram and a representation of the `diff` image, as well as the following arrays:\n",
    "\n",
    "- `data1`: initial image number 1\n",
    "\n",
    "- `labels_pos_peak`: image with labels of the peaks of the cosmic rays detected in `data1`\n",
    "\n",
    "- `labels_pos_tail`: image with labels of the tails of the cosmic rays detected in `data1`\n",
    "\n",
    "- `labels_pos_tail_in_peak`: labels of the cosmic rays in `labels_pos_tail` that appear in `labels_pos_peak`\n",
    "\n",
    "- `data1 with C.R.`: initial image number 1, with the pixels to be corrected due to cosmic ray impact marked with red crosses\n",
    "\n",
    "- `data1c`: initial image number 1 after cosmic ray removal\n",
    "\n",
    "- `data2`: initial image number 2\n",
    "\n",
    "- `labels_neg_peak`: image with labels of the peaks of the cosmic rays detected in `data2`\n",
    "\n",
    "- `labels_neg_tail`: image with labels of the tails of the cosmic rays detected in `data2`\n",
    "\n",
    "- `labels_neg_tail_in_peak`: labels of the cosmic rays in `labels_neg_tail` that appear in `labels_neg_peak`\n",
    "\n",
    "- `data2 with C.R.`: initial image number 2, with the pixels to be corrected due to cosmic ray impact marked with red crosses\n",
    "\n",
    "- `data2c`: initial image number 2 after cosmic ray removal\n"
   ]
  },
  {
   "cell_type": "code",
   "execution_count": null,
   "id": "5ac37c89",
   "metadata": {},
   "outputs": [],
   "source": [
    "data1c, data2c, mask_data1c, mask_data2c = tea.cr2images(\n",
    "    data1=data1,\n",
    "    data2=data2,\n",
    "    ioffx=0,\n",
    "    ioffy=-4,\n",
    "    tsigma_peak=10,\n",
    "    tsigma_tail=3,\n",
    "    return_masks=True,\n",
    "    debug_level=2\n",
    ")"
   ]
  },
  {
   "cell_type": "markdown",
   "id": "84972b1e-6ea2-4bcf-a6b7-9870048524e0",
   "metadata": {},
   "source": [
    "We can repeat the previous command indicating that we want to visualize a zoom in a specific region. To do this, we must use the `zoom_region_imshow` parameter, which must be an object of type `SliceRegion2D`.\n"
   ]
  },
  {
   "cell_type": "code",
   "execution_count": null,
   "id": "926abd71",
   "metadata": {},
   "outputs": [],
   "source": [
    "data1c, data2c, mask_data1c, mask_data2c = tea.cr2images(\n",
    "    data1=data1,\n",
    "    data2=data2,\n",
    "    ioffx=0,\n",
    "    ioffy=-4,\n",
    "    tsigma_peak=10,\n",
    "    tsigma_tail=3,\n",
    "    return_masks=True,\n",
    "    debug_level=2,\n",
    "    zoom_region_imshow=tea.SliceRegion2D(np.s_[350:650, 100:180], mode='fits')\n",
    ")"
   ]
  },
  {
   "cell_type": "markdown",
   "id": "551cc167-e309-47e0-9a9b-524a7973f453",
   "metadata": {},
   "source": [
    "## Cleaning individual exposures\n",
    "\n",
    "We can also use the `cr2images()` function to attempt cosmic ray removal even in situations where we only have a single exposure. In that case, we can ask `cr2images()` to generate a fictitious image number 2 from the only available image. This is done using a median filter (in 2 dimensions), with a *kernel* of the dimensions specified by the `median_size` tuple. Note that in this case `data2` is not used in the function call (and it also makes no sense to specify `ioffx`, `ioffy`). Internally, `cr2images()` makes a call to `scipy.ndimage.median_filter(data1, size=median_size)` to generate `data2`. Obviously, we can generate a `data2` array independently before calling `cr2images()` and not use `median_size`.\n"
   ]
  },
  {
   "cell_type": "code",
   "execution_count": null,
   "id": "b5cfd8a3",
   "metadata": {},
   "outputs": [],
   "source": [
    "median_size = (9, 3)  # kernel size in the (Y-axis, X-axis), following the Python convention\n",
    "tsigma_peak = 10\n",
    "tsigma_tail = 3\n",
    "\n",
    "data1c, data2c, mask_data1c, mask_data2c = tea.cr2images(\n",
    "    data1=data1,\n",
    "    median_size=median_size,\n",
    "    tsigma_peak=tsigma_peak,\n",
    "    tsigma_tail=tsigma_tail,\n",
    "    return_masks=True,\n",
    "    debug_level=1,\n",
    "    zoom_region_imshow=tea.SliceRegion2D(np.s_[350:650, 100:180], mode='fits')\n",
    ")"
   ]
  },
  {
   "cell_type": "markdown",
   "id": "fbd64a18-99d7-42e2-a9cb-6ec066deeccb",
   "metadata": {},
   "source": [
    "In this case, the cleaning is not perfect: some pixels affected by cosmic rays still remain. It’s not easy for this method to do a perfect job. On one hand, increasing `median_size` can help remove cosmic rays more effectively in the fictitious image `data2`, but this comes at the cost of smoothing the information in image `data1`, and it’s possible that signal corresponding to real image data may be mistakenly detected as a cosmic ray. On the other hand, the signal of the pixels detected as cosmic rays is replaced by the smoothed fictitious image `data2`, so if the original cosmic ray is large and `median_size` is smaller, the correction will not be good.\n",
    "\n",
    "The best strategy, then, is to try different values of `median_size` through trial and error.\n",
    "\n",
    "In this case, it is also possible to use the auxiliary function `apply_cr2images_ccddata()` to directly clean a FITS image that stores the information of a `CCDData` object. Since only one image is used, the pixels affected by cosmic rays in the array stored in the `UNCERT` extension are replaced by the smoothed version of the `UNCERT` array from the initial image.\n"
   ]
  },
  {
   "cell_type": "code",
   "execution_count": null,
   "id": "6984e323",
   "metadata": {},
   "outputs": [],
   "source": [
    "tea.apply_cr2images_ccddata(\n",
    "    infile1=input_filename1,\n",
    "    outfile1=f'ccc{input_filename1}',\n",
    "    median_size=median_size,\n",
    "    tsigma_peak=tsigma_peak,\n",
    "    tsigma_tail=tsigma_tail,\n",
    "    debug_level=1\n",
    ")"
   ]
  },
  {
   "cell_type": "code",
   "execution_count": null,
   "id": "210babef",
   "metadata": {},
   "outputs": [],
   "source": [
    "time_end = datetime.now()\n",
    "tea.elapsed_time(time_ini, time_end)"
   ]
  },
  {
   "cell_type": "code",
   "execution_count": null,
   "id": "b7db8659",
   "metadata": {},
   "outputs": [],
   "source": []
  }
 ],
 "metadata": {
  "kernelspec": {
   "display_name": "Python 3 (ipykernel)",
   "language": "python",
   "name": "python3"
  },
  "language_info": {
   "codemirror_mode": {
    "name": "ipython",
    "version": 3
   },
   "file_extension": ".py",
   "mimetype": "text/x-python",
   "name": "python",
   "nbconvert_exporter": "python",
   "pygments_lexer": "ipython3",
   "version": "3.12.7"
  }
 },
 "nbformat": 4,
 "nbformat_minor": 5
}
