{
 "cells": [
  {
   "cell_type": "markdown",
   "id": "43a671f1",
   "metadata": {},
   "source": [
    "# C distortion and wavelength calibration"
   ]
  },
  {
   "cell_type": "markdown",
   "id": "4d466cc1-1bc1-4152-9a86-dbbab5efbd31",
   "metadata": {},
   "source": [
    "This notebook describes how to perform the C distortion correction and the wavelength calibration of an image following the strategy outlined below.\n",
    "\n",
    "**Important**: it is assumed that the data array is oriented such that the spectral direction corresponds to the horizontal axis and the spatial direction to the vertical axis. Additionally, it is assumed that the spectral scale increases from left to right.\n",
    "\n",
    "*Modus operandi*:\n",
    "\n",
    "1. Identification of lines with known wavelengths: this is done on an average spectrum of the image.\n",
    "\n",
    "2. Wavelength calibration of an initial spectrum: this helps determine the appropriate degree of the polynomial to be fitted.\n",
    "\n",
    "3. Automatic search for the lines of interest across the entire image (it is possible to skip regions in the spatial direction if necessary).\n",
    "\n",
    "4. C distortion fitting: the distortion of each line is fitted using a polynomial of the required degree.\n",
    "\n",
    "5. Determination of the wavelength calibration polynomial for each spectrum. This calculation is based on the positions of the lines predicted by the polynomials that describe the C distortion of the image.\n",
    "\n",
    "6. Storage of the wavelength calibration polynomials in an auxiliary FITS file.\n",
    "\n",
    "7. Application of the wavelength calibration polynomials to perform, in a single step, both the C distortion correction and the wavelength calibration (i.e., transformation of the image to a linear wavelength scale).\n"
   ]
  },
  {
   "cell_type": "code",
   "execution_count": null,
   "id": "2a1b2ed0-91f5-46a1-85b2-1b6ac2aa30d2",
   "metadata": {},
   "outputs": [],
   "source": [
    "from astropy.io import fits\n",
    "from astropy.nddata import CCDData\n",
    "import astropy.units as u\n",
    "from datetime import datetime\n",
    "import matplotlib.pyplot as plt\n",
    "from mpl_toolkits.axes_grid1 import make_axes_locatable\n",
    "import numpy as np\n",
    "from pathlib import Path\n",
    "import teareduce as tea"
   ]
  },
  {
   "cell_type": "code",
   "execution_count": null,
   "id": "930d7b00",
   "metadata": {},
   "outputs": [],
   "source": [
    "time_ini = datetime.now()\n",
    "print(time_ini)"
   ]
  },
  {
   "cell_type": "markdown",
   "id": "a0cc8ece-fc1e-4396-b520-8cdf04d5a6f6",
   "metadata": {},
   "source": [
    "Download the required file"
   ]
  },
  {
   "cell_type": "code",
   "execution_count": null,
   "id": "f1287554-4991-4d22-badd-294ef3814c5c",
   "metadata": {},
   "outputs": [],
   "source": [
    "tea.get_cookbook_file('notebooks/wavecalib/ftdz_45324.fits')"
   ]
  },
  {
   "cell_type": "code",
   "execution_count": null,
   "id": "2107bea6",
   "metadata": {},
   "outputs": [],
   "source": [
    "tea.avoid_astropy_warnings(True)"
   ]
  },
  {
   "cell_type": "markdown",
   "id": "aed3b824-abd1-4713-8645-c3316f0b26a3",
   "metadata": {},
   "source": [
    "We will work with a specific image from Practice 3: `ftdz_45324.fits` (in this image we have already subtracted the BIAS and DARK, cropped the *under* and *overscan* regions, and applied the Flat Field)."
   ]
  },
  {
   "cell_type": "code",
   "execution_count": null,
   "id": "b368c980",
   "metadata": {},
   "outputs": [],
   "source": [
    "input_filename = 'ftdz_45324.fits'\n",
    "data = fits.getdata(input_filename)"
   ]
  },
  {
   "cell_type": "markdown",
   "id": "790d8f96-0022-4d36-883d-a5cec10fff7f",
   "metadata": {},
   "source": [
    "We display the full image and a zoom around one of the lines, which allows us to observe that there is a certain C distortion."
   ]
  },
  {
   "cell_type": "code",
   "execution_count": null,
   "id": "5e9b1fa1-3307-4326-a57b-a0df85e8d689",
   "metadata": {},
   "outputs": [],
   "source": [
    "for iplot in range(2):\n",
    "    if iplot == 0:\n",
    "        vmin, vmax = np.percentile(data, [5, 95])\n",
    "    else:\n",
    "        vmin, vmax = np.percentile(data, [5, 99])\n",
    "    fig, ax = plt.subplots(figsize=(15, 5))\n",
    "    tea.imshow(fig, ax, data, vmin=vmin, vmax=vmax, title=f'{input_filename}',\n",
    "               aspect='auto')\n",
    "    if iplot == 1:\n",
    "        ax.set_xlim([74, 83])\n",
    "    plt.show()"
   ]
  },
  {
   "cell_type": "code",
   "execution_count": null,
   "id": "ede12af6",
   "metadata": {},
   "outputs": [],
   "source": [
    "naxis2, naxis1 = data.shape\n",
    "print(f'NAXIS1, NAXIS2: {naxis1}, {naxis2}')"
   ]
  },
  {
   "cell_type": "markdown",
   "id": "f390080e-52a9-4116-aa5b-bf4ebc193df6",
   "metadata": {},
   "source": [
    "## Automatic search for lines of interest across the entire image.\n",
    "\n",
    "We create an instance of type `TeaWaveCalibration` which, by default, has predefined initial values to carry out the work of calibration and correction of C distortion and wavelength calibration. These initial parameters can be modified as we, through trial and error, find more suitable values for calibrating the image at hand.\n"
   ]
  },
  {
   "cell_type": "code",
   "execution_count": null,
   "id": "b3bd7652-0853-4585-8d5c-9f5c9e048dfc",
   "metadata": {},
   "outputs": [],
   "source": [
    "wavecalib = tea.TeaWaveCalibration()\n",
    "wavecalib"
   ]
  },
  {
   "cell_type": "markdown",
   "id": "964f418d-c874-4c6f-93d7-69aa47503635",
   "metadata": {},
   "source": [
    "We can easily view the documentation of the class.\n"
   ]
  },
  {
   "cell_type": "code",
   "execution_count": null,
   "id": "73123f95-879a-421b-b824-e7804cdcac8e",
   "metadata": {},
   "outputs": [],
   "source": [
    "print(tea.TeaWaveCalibration.__doc__)"
   ]
  },
  {
   "cell_type": "markdown",
   "id": "7d250dc9-c9fa-484f-b64b-a7f78b6540e5",
   "metadata": {},
   "source": [
    "The first thing we need to do is obtain an approximate position of the line peaks. If there is significant C distortion, it is not advisable to combine many spectra, as this would broaden the lines. On the other hand, it is worth combining several spectra because this improves the signal-to-noise ratio and helps eliminate cosmic rays (if they haven't already been removed). This is possible because the average spectrum we will work with is obtained using a median average (instead of a mean).\n",
    "\n",
    "The default parameters we can adjust are:\n",
    "\n",
    "- `ns_window`: number of spectra that can be collapsed to obtain an average spectrum in which to search for peaks.\n",
    "\n",
    "- `threshold`: minimum number of counts a peak must have to be considered as such.\n",
    "\n",
    "- `sigma_smooth`: for noisy spectra, it is useful to convolve with a Gaussian filter. This parameter indicates the width of that kernel (see usage example below).\n",
    "\n",
    "- `nx_window`: each peak must meet the condition that the central value is the highest within a window of this width. Additionally, the pixels to the right and left of the peak must decrease monotonically. It must be an odd number so that there are `nx_window/2` pixels on each side of the central peak.\n",
    "\n",
    "- `delta_flux`: within each peak search window (of width `nx_window`), the signal at the peak must exceed the value at the pixels located at the edges of the interval by a minimum amount given by this `delta_flux` factor. By default, this value is zero. This parameter helps detect/ignore peaks when the arc to be calibrated has a variable continuum signal along the spectral direction, which makes it difficult to find a `threshold` value that works across the entire interval.\n",
    "\n",
    "- `method`: method used to refine the peak position. Only two options are available: `poly2` or `gaussian` (a parabola or a Gaussian).\n",
    "\n",
    "- `degree_cdistortion`: degree of the polynomial used to fit the C distortion of the lines.\n",
    "\n",
    "- `degree_wavecal`: degree of the polynomial used for wavelength calibration.\n",
    "\n",
    "<div class=\"alert alert-block alert-warning\">\n",
    "    <b>Note:</b> several methods of the <font face=\"Courier\">TeaWaveCalibration</font> class that generate plots have a parameter <font face=\"Courier\">pdf_output='filename.pdf'</font> which allows generating a PDF file with those plots. In these cases, there is also another parameter <font face=\"Courier\">pdf_only</font> which can be <font face=\"Courier\">True</font> or <font face=\"Courier\">False</font>, indicating whether or not to display the plots in the notebook in addition to saving the PDF file.\n",
    "</div>\n",
    "\n",
    "In this example, we will collapse 11 spectra, starting from 120 and ending at 130 (following the FITS numbering convention, which starts at 1). To do this, we use the auxiliary class `SliceRegion1D`, which allows us to define an interval using either the FITS or Python convention.\n"
   ]
  },
  {
   "cell_type": "code",
   "execution_count": null,
   "id": "890f7558-65cc-4528-882e-1096b870e9cc",
   "metadata": {},
   "outputs": [],
   "source": [
    "ns_range = tea.SliceRegion1D(np.s_[120:130], mode='fits')\n",
    "ns_range_bis = tea.SliceRegion1D(np.s_[119:130], mode='python')\n",
    "\n",
    "# check that both instances correspond to the same region\n",
    "ns_range == ns_range_bis"
   ]
  },
  {
   "cell_type": "markdown",
   "id": "ec697a01-2b54-48de-87a3-55506ebe95e3",
   "metadata": {},
   "source": [
    "We use the method `compute_xpeaks_reference()`, which returns an array with the positions of the peaks (in *array coordinates*; that is, starting from 0), both in real format `xpeaks_reference` (the positions have been fitted to a Gaussian because `method='gaussian'` is set in the default parameters) and in integer format `ixpeaks_reference` (array indices). We also obtain the average spectrum used: `spectrum_reference`.\n"
   ]
  },
  {
   "cell_type": "code",
   "execution_count": null,
   "id": "dcfc6625-9900-45c7-9096-bf3189efde74",
   "metadata": {},
   "outputs": [],
   "source": [
    "xpeaks_reference, ixpeaks_reference, spectrum_reference = wavecalib.compute_xpeaks_reference(\n",
    "    data=data,\n",
    "    ns_range=ns_range,\n",
    "    plot_spectrum=True,\n",
    "    title=input_filename\n",
    ")"
   ]
  },
  {
   "cell_type": "markdown",
   "id": "06e97dfa-dc0d-4c56-bc51-e6580ee1e645",
   "metadata": {},
   "source": [
    "Note that in the representation we are using a logarithmic scale on the vertical axis. In the case of arcs, this is very useful because we often encounter both bright and faint lines.\n",
    "\n",
    "We have found too many peaks because the default `threshold` is zero."
   ]
  },
  {
   "cell_type": "code",
   "execution_count": null,
   "id": "1c7ec5c9",
   "metadata": {
    "tags": []
   },
   "outputs": [],
   "source": [
    "xpeaks_reference, ixpeaks_reference, spectrum_reference = wavecalib.compute_xpeaks_reference(\n",
    "    data=data,\n",
    "    ns_range=ns_range,\n",
    "    threshold=50,\n",
    "    plot_spectrum=True,\n",
    "    title=input_filename\n",
    ")"
   ]
  },
  {
   "cell_type": "markdown",
   "id": "f127944a-d55f-4098-83b9-b93f38c7892f",
   "metadata": {},
   "source": [
    "By having modified the `threshold` parameter, its value has changed in the `wavecalib` object's attribute.\n"
   ]
  },
  {
   "cell_type": "code",
   "execution_count": null,
   "id": "40a8f56b",
   "metadata": {},
   "outputs": [],
   "source": [
    "wavecalib"
   ]
  },
  {
   "cell_type": "markdown",
   "id": "b580c16c-5e37-44bd-93bf-cc90dadc5249",
   "metadata": {},
   "source": [
    "We display the individual fit to each of the peaks using the parameter `plot_peaks=True` (there's no need to specify the `threshold` anymore because it will use the current default, which is already 50).\n"
   ]
  },
  {
   "cell_type": "code",
   "execution_count": null,
   "id": "49475191",
   "metadata": {
    "tags": []
   },
   "outputs": [],
   "source": [
    "xpeaks_reference, ixpeaks_reference, spectrum_reference = wavecalib.compute_xpeaks_reference(\n",
    "    data=data,\n",
    "    ns_range=ns_range,\n",
    "    plot_spectrum=True,\n",
    "    plot_peaks=True,\n",
    "    title=input_filename,\n",
    ")"
   ]
  },
  {
   "cell_type": "markdown",
   "id": "5fb899c8-bdb4-437c-a80a-184ba58bff1b",
   "metadata": {},
   "source": [
    "Some peaks found in the wings of bright lines are spurious. We can get rid of them by smoothing the spectrum (`sigma_smooth=2`; this parameter is updated in the `wavecalib` object and if we're satisfied with it, there's no need to specify it again).\n"
   ]
  },
  {
   "cell_type": "code",
   "execution_count": null,
   "id": "1f7347f4",
   "metadata": {},
   "outputs": [],
   "source": [
    "xpeaks_reference, ixpeaks_reference, spectrum_reference = wavecalib.compute_xpeaks_reference(\n",
    "    data=data,\n",
    "    ns_range=ns_range,\n",
    "    sigma_smooth=2,\n",
    "    plot_spectrum=True,\n",
    "    plot_peaks=True,\n",
    "    title=input_filename\n",
    ")"
   ]
  },
  {
   "cell_type": "markdown",
   "id": "6c4851a9-f06a-4ee1-8c7e-c2c4acca7d06",
   "metadata": {},
   "source": [
    "The latest values of the parameters we have modified have been stored.\n"
   ]
  },
  {
   "cell_type": "code",
   "execution_count": null,
   "id": "9d55f4df-e728-435b-93dc-ee7c5f3f5baa",
   "metadata": {},
   "outputs": [],
   "source": [
    "wavecalib"
   ]
  },
  {
   "cell_type": "markdown",
   "id": "83403b62-5f52-4e1f-82f1-fd1b82ac46dd",
   "metadata": {},
   "source": [
    "The final positions of the lines (in *array coordinates*, starting from 0) are\n"
   ]
  },
  {
   "cell_type": "code",
   "execution_count": null,
   "id": "f9dac602",
   "metadata": {},
   "outputs": [],
   "source": [
    "xpeaks_reference"
   ]
  },
  {
   "cell_type": "markdown",
   "id": "55cf8b25-5080-4d24-b6c4-546cfc74cae3",
   "metadata": {},
   "source": [
    "Note that these positions **are not stored as an attribute** in the `wavecalib` object we created, but rather we have them stored in an external array that we can modify as we wish. The advantage of this approach is that we can easily remove some of the peaks. For example, we can remove:\n",
    "\n",
    "- saturated lines\n",
    "\n",
    "- unreliable peaks from faint lines\n",
    "\n",
    "- peaks from lines whose wavelengths we do not know\n",
    "\n",
    "In our case, there's no need to remove any peaks because the 8 we found are useful. But suppose we wanted to remove the third and fifth peaks (indices 2 and 4). We can remove them from the array using NumPy functionality.\n"
   ]
  },
  {
   "cell_type": "code",
   "execution_count": null,
   "id": "d9345584",
   "metadata": {},
   "outputs": [],
   "source": [
    "xpeaks_reference_new = np.delete(xpeaks_reference, [2, 4])\n",
    "xpeaks_reference_new"
   ]
  },
  {
   "cell_type": "markdown",
   "id": "91c1cde6-16e7-4a21-9699-3f7fd3a22eae",
   "metadata": {},
   "source": [
    "The above has not modified the original array.\n"
   ]
  },
  {
   "cell_type": "code",
   "execution_count": null,
   "id": "5eefaef1",
   "metadata": {},
   "outputs": [],
   "source": [
    "xpeaks_reference"
   ]
  },
  {
   "cell_type": "markdown",
   "id": "18ef4292-5937-4e95-8ea0-374cf6082e0e",
   "metadata": {},
   "source": [
    "## Wavelength Calibration of the Reference Spectrum\n",
    "\n",
    "We need to specify the wavelengths of the peaks we consider useful and for which we know the wavelengths. For this, we use the method `define_peak_wavelengths()`, which requires the wavelengths (in increasing order) of the peaks, **with units**. This function needs two arguments: the array with the detected peaks and the array of wavelengths (the first parameter is only used to check that the number of elements is the same in both arrays).\n"
   ]
  },
  {
   "cell_type": "code",
   "execution_count": null,
   "id": "8d5e4c38",
   "metadata": {},
   "outputs": [],
   "source": [
    "wavelengths_reference= np.array(\n",
    "    [\n",
    "        6506.528, 6532.880, 6598.953, \n",
    "        6652.090, 6678.200, 6717.043, \n",
    "        6752.832, 6871.290\n",
    "    ]\n",
    ") * u.Angstrom\n",
    "\n",
    "wavecalib.define_peak_wavelengths(\n",
    "    xpeaks=xpeaks_reference,\n",
    "    wavelengths= wavelengths_reference\n",
    ")"
   ]
  },
  {
   "cell_type": "markdown",
   "id": "db015ba8-1a63-4bf4-b1fa-f6d19681041f",
   "metadata": {},
   "source": [
    "The wavelengths entered are stored in the `peak_wavelengths` attribute.\n"
   ]
  },
  {
   "cell_type": "code",
   "execution_count": null,
   "id": "4d92baef",
   "metadata": {},
   "outputs": [],
   "source": [
    "wavecalib"
   ]
  },
  {
   "cell_type": "markdown",
   "id": "bd689d77-aae9-4e24-82a9-adae08cc3f9a",
   "metadata": {},
   "source": [
    "We can display the spectrum with the introduced wavelengths (we also save the plot in a PDF file)."
   ]
  },
  {
   "cell_type": "code",
   "execution_count": null,
   "id": "d6513e18",
   "metadata": {},
   "outputs": [],
   "source": [
    "wavecalib.overplot_identified_lines(\n",
    "    xpeaks=xpeaks_reference,\n",
    "    spectrum=spectrum_reference,\n",
    "    title=f'Identified arc lines in {input_filename}\\n'\n",
    "          f'(median spectrum from scans {ns_range.fits.start} to {ns_range.fits.stop})',\n",
    "    pdf_output=f'plot_{Path(input_filename).stem}_identified_lines.pdf'\n",
    ")"
   ]
  },
  {
   "cell_type": "markdown",
   "id": "4ecc918a-7cb1-45e4-97de-90d7e95e3db9",
   "metadata": {},
   "source": [
    "Now we can proceed with the calculation of the wavelength calibration polynomial. We do this using the `fit_xpeaks_wavelengths()` method, which requires the array with the peak positions as an argument. In this case, we also enable it to display additional information on screen (`debug=True`) and force it to graphically show the result (`plots=True`).\n"
   ]
  },
  {
   "cell_type": "code",
   "execution_count": null,
   "id": "c332e2b7",
   "metadata": {},
   "outputs": [],
   "source": [
    "poly_fits_wav, residual_std_wav, poly_fits_pix, residual_std_pix, \\\n",
    "crval1_linear, cdelt1_linear, crmax1_linear = wavecalib.fit_xpeaks_wavelengths(\n",
    "    xpeaks=xpeaks_reference, \n",
    "    debug=True,\n",
    "    plots=True,\n",
    "    title=input_filename\n",
    ")"
   ]
  },
  {
   "cell_type": "markdown",
   "id": "9c074d24-a070-4dc3-87c9-8af8bec30a03",
   "metadata": {},
   "source": [
    "By default, it has used a polynomial of degree `degree_wavecalib=1`. We are going to increase it to a polynomial of degree 3. Since this fit will be valid, we also save the plots in a PDF file.\n"
   ]
  },
  {
   "cell_type": "code",
   "execution_count": null,
   "id": "df064016",
   "metadata": {},
   "outputs": [],
   "source": [
    "poly_fits_wav, residual_std_wav, poly_fits_pix, residual_std_pix, \\\n",
    "crval1_linear, cdelt1_linear, crmax1_linear = wavecalib.fit_xpeaks_wavelengths(\n",
    "    xpeaks=xpeaks_reference,\n",
    "    degree_wavecalib=3,\n",
    "    debug=True,\n",
    "    plots=True,\n",
    "    title=input_filename,\n",
    "    pdf_output=f'plot_{Path(input_filename).stem}_wavecalib.pdf'\n",
    ")"
   ]
  },
  {
   "cell_type": "markdown",
   "id": "68269514-b1b9-477b-82c6-3603fa1825b9",
   "metadata": {},
   "source": [
    "The function first performs a fit to a polynomial of the form `pixel(wavelength)` (using `wavelength` as the independent variable and `pixel` as the dependent variable). We do it this way because we expect to have more uncertainty in the peak positions (determined by fitting the line profiles) than in the wavelengths of the lines (which are supposedly tabulated and known with high precision). This initial fit is then inverted to obtain a polynomial that provides `wavelength(pixel)`, which is more convenient for predicting the wavelength of any pixel. The function has returned the following parameters:\n",
    "\n",
    "- `poly_fits_wav`: corresponds to the polynomial `wavelength(pixel)`\n",
    "\n",
    "- `residual_std_wav`: residual standard deviation corresponding to the previous fit (in wavelength units)\n",
    "\n",
    "- `poly_fits_pix`: corresponds to the polynomial `pixel(wavelength)`\n",
    "\n",
    "- `residual_std_pix`: residual standard deviation corresponding to the previous fit (in pixels)\n",
    "\n",
    "- `crval1_linear`: value of CRVAL1 (wavelength of the first pixel) in the linear fit approximation\n",
    "\n",
    "- `cdelt1_linear`: value of CDELT1 (reciprocal linear dispersion; in this case in Angstrom/pixel)\n",
    "\n",
    "- `crmax1_linear`: this parameter is not a standard FITS keyword, but it is useful. It indicates the wavelength at the center of the pixel corresponding to NAXIS1.\n"
   ]
  },
  {
   "cell_type": "markdown",
   "id": "eb96e14f-a63d-4869-8b9d-7b684d3fb3f6",
   "metadata": {},
   "source": [
    "The last value of `degree_wavecal` has been stored in the `wavecalib` object, so it will be the value used (unless we decide to change it again).\n"
   ]
  },
  {
   "cell_type": "code",
   "execution_count": null,
   "id": "cba9c625",
   "metadata": {},
   "outputs": [],
   "source": [
    "wavecalib"
   ]
  },
  {
   "cell_type": "markdown",
   "id": "64b20e02-b813-47aa-90d0-933a366f1aba",
   "metadata": {},
   "source": [
    "## Searching for the lines across the entire image\n",
    "\n",
    "If the C distortion of the image is not too severe, it is likely that we can fit the position of all selected peaks using an automatic procedure that only requires the initial position of the peaks.\n",
    "\n",
    "We run this procedure using the `compute_xpeaks_image()` method, to which we must pass the 2D image array `data` and the peak positions `xpeaks_reference` for which we know the associated wavelengths. This function can also graphically display all the peaks found for each spectrum and the association of those peaks to each particular line (`plots=True`). The parameter `disable_tqdm=False` indicates that we want to see a progress bar in the notebook as the calculations are performed.\n"
   ]
  },
  {
   "cell_type": "code",
   "execution_count": null,
   "id": "ee3046bc",
   "metadata": {},
   "outputs": [],
   "source": [
    "wavecalib.compute_xpeaks_image(\n",
    "    data=data, \n",
    "    xpeaks_reference=xpeaks_reference, \n",
    "    plots=True,\n",
    "    disable_tqdm=False,\n",
    "    title=input_filename\n",
    ")"
   ]
  },
  {
   "cell_type": "markdown",
   "id": "cfadf10c-c9d3-4e64-a30e-90fb36513412",
   "metadata": {},
   "source": [
    "In green, we see peaks found in the different spectra. The function selects, for each line, the peak closest to the average (median) position of the peaks in the `ns_window` nearest spectra (in this case, we are using the default value `ns_window=11`). This ensures that the predicted position for the peaks in each new spectrum follows the C distortion calculated from neighboring spectra. Since we haven’t specified a particular spectral region, the procedure starts with the first spectrum (at the bottom) and progresses up to the spectrum corresponding to NAXIS2 (this is also graphically indicated by the colored triangles shown over the starting spectrum). It is therefore advisable that the peaks in the first spectra are relatively close to the position indicated in `xpeaks_reference`. The peaks of each line are marked in red (odd lines) and purple (even lines). For cases where the C distortion is significant, it is possible to use a more elaborate method that allows fitting different intervals along the spectral direction (see example below).\n",
    "\n",
    "In the example we are considering, the automatic method works perfectly.\n"
   ]
  },
  {
   "cell_type": "markdown",
   "id": "d06cda81-ed3a-4e97-8f7c-7746d7699891",
   "metadata": {},
   "source": [
    "## Fitting the C distortion\n",
    "\n",
    "We can now proceed with fitting the C distortion for each line. By default, a polynomial of degree 1 is used.\n"
   ]
  },
  {
   "cell_type": "code",
   "execution_count": null,
   "id": "d17cf9ff",
   "metadata": {},
   "outputs": [],
   "source": [
    "wavecalib.fit_cdistortion(\n",
    "    plots=True,\n",
    "    title=input_filename\n",
    ")"
   ]
  },
  {
   "cell_type": "markdown",
   "id": "b5f19c69-1eba-434e-9bcd-dd7c8a79ca0d",
   "metadata": {},
   "source": [
    "The lines show curvature, and a polynomial of degree 1 is not sufficient. We increase the degree of the polynomial to fit the C distortion using `degree_cdistortion=2`.\n"
   ]
  },
  {
   "cell_type": "code",
   "execution_count": null,
   "id": "3836ed4f",
   "metadata": {},
   "outputs": [],
   "source": [
    "wavecalib.fit_cdistortion(\n",
    "    degree_cdistortion=2, \n",
    "    plots=True,\n",
    "    title=input_filename\n",
    ")"
   ]
  },
  {
   "cell_type": "markdown",
   "id": "79fa9a5f-77bf-4364-9497-0dea1aa2f1b5",
   "metadata": {},
   "source": [
    "The result is now clearly better. The fit is performed iteratively by removing points that deviate more than 3 times the standard deviation (the *outliers* are shown in red). The last value of `degree_cdistortion` is stored as an attribute of the `wavecalib` object, so we don’t need to specify it again explicitly. New attributes have been updated in this object to store the selected peaks in each spectrum, as well as the polynomials fitted to the C distortion of each line.\n"
   ]
  },
  {
   "cell_type": "code",
   "execution_count": null,
   "id": "154b7fd9",
   "metadata": {},
   "outputs": [],
   "source": [
    "wavecalib"
   ]
  },
  {
   "cell_type": "markdown",
   "id": "9bb1e63b-79fb-40e6-99b6-c8a4349fa887",
   "metadata": {},
   "source": [
    "Finally, it is also useful to display the calculated C distortion over the original image, zooming in on each line.\n"
   ]
  },
  {
   "cell_type": "code",
   "execution_count": null,
   "id": "d7dff1ed",
   "metadata": {},
   "outputs": [],
   "source": [
    "wavecalib.plot_cdistortion(data, title=input_filename)"
   ]
  },
  {
   "cell_type": "markdown",
   "id": "ea52a28e-5a96-4740-930d-be6977362875",
   "metadata": {},
   "source": [
    "### Partial fits\n",
    "\n",
    "In particular cases where we need to ignore some spectra during the fitting, we can use a more refined procedure, which can also help us use sky lines (instead of arc lines) to perform the wavelength calibration (in this case, it may be essential to skip object spectra that interfere with the peak detection process).\n",
    "\n",
    "Since we are continuing with the same example image, we delete the previously fitted C distortion polynomials but preserve the parameters we have identified as suitable for this image (`ns_window`, `threshold`, `sigma_smooth`, `nx_window`, `method`, `degree_cdistortion`, `degree_wavecal`, `peak_wavelengths`).\n",
    "\n",
    "We achieve this using the `reset_image()` method.\n"
   ]
  },
  {
   "cell_type": "code",
   "execution_count": null,
   "id": "c091539b",
   "metadata": {},
   "outputs": [],
   "source": [
    "wavecalib.reset_image()\n",
    "wavecalib"
   ]
  },
  {
   "cell_type": "markdown",
   "id": "db66ba44-2a0a-425d-b891-9dbfa6847c04",
   "metadata": {},
   "source": [
    "As the C distortion in this image is not very large, the peak positions stored in `xpeaks_reference` are a good starting point for peak searching in any spectrum of the image.\n",
    "\n",
    "We now proceed to calculate the C distortion, skipping the spectra in the intervals [81, 119] and [181, 199]. In other words, we fit the spectra corresponding to the intervals [1, 80], [120, 180], and [200, 250] (the numbers follow the FITS convention, which starts at 1; however, the plots show the *array index*, which starts at 0).\n",
    "\n",
    "We begin by fitting the interval [1, 80].\n"
   ]
  },
  {
   "cell_type": "code",
   "execution_count": null,
   "id": "2ca3613d-b00c-4cc4-b771-580cde876d3d",
   "metadata": {},
   "outputs": [],
   "source": [
    "ns_range1 = tea.SliceRegion1D(np.s_[1:80], mode='fits')\n",
    "\n",
    "wavecalib.compute_xpeaks_image(\n",
    "    data=data,\n",
    "    xpeaks_reference=xpeaks_reference,\n",
    "    ns_range=ns_range1,\n",
    "    plots=True,\n",
    "    title=input_filename,\n",
    "    disable_tqdm=False\n",
    ")"
   ]
  },
  {
   "cell_type": "markdown",
   "id": "19871184-2724-4aa7-a31e-ecf7a680d435",
   "metadata": {},
   "source": [
    "The peaks of each line are marked in red (odd lines) and purple (even lines).\n",
    "\n",
    "We continue with the interval [120, 180]. In this case, we will perform the peak search from top to bottom (that is, starting from spectrum 180 and going down to 120). This option (which in this example is not relevant) can be useful when we have images with strong C distortion and when the `xpeaks_reference` positions have been calculated for an average spectrum from the top part of the image. To indicate that we want to move from top to bottom in the peak search, we use the parameter `direction='down'`; this parameter, by default, is `'up'`.\n"
   ]
  },
  {
   "cell_type": "code",
   "execution_count": null,
   "id": "242bca5a-311b-4398-bfa6-395704d65d20",
   "metadata": {},
   "outputs": [],
   "source": [
    "ns_range2 = tea.SliceRegion1D(np.s_[120:180], mode='fits')\n",
    "\n",
    "wavecalib.compute_xpeaks_image(\n",
    "    data=data,\n",
    "    xpeaks_reference=xpeaks_reference,\n",
    "    ns_range=ns_range2,\n",
    "    direction='down',\n",
    "    plots=True,\n",
    "    title=input_filename,\n",
    "    disable_tqdm=False\n",
    ")"
   ]
  },
  {
   "cell_type": "markdown",
   "id": "dbf9b91a-dfd6-4f72-a1ee-ea0aa6b9cc37",
   "metadata": {},
   "source": [
    "The new peaks of each line are marked in red (odd lines) and purple (even lines), while the previously calculated peaks appear in blue (odd lines) and cyan (even lines). Note that it is graphically indicated that the peak search has been performed from top to bottom.\n",
    "\n",
    "We add the peaks in a third interval [200, 250].\n"
   ]
  },
  {
   "cell_type": "code",
   "execution_count": null,
   "id": "b5e8486d-3a20-44b0-9fcb-4e3cdb83f0a6",
   "metadata": {},
   "outputs": [],
   "source": [
    "ns_range3 = tea.SliceRegion1D(np.s_[200:250], mode='fits')\n",
    "\n",
    "wavecalib.compute_xpeaks_image(\n",
    "    data=data,\n",
    "    xpeaks_reference=xpeaks_reference,\n",
    "    ns_range=ns_range3,\n",
    "    plots=True,\n",
    "    title=input_filename,\n",
    "    disable_tqdm=False\n",
    ")"
   ]
  },
  {
   "cell_type": "code",
   "execution_count": null,
   "id": "e24c7381",
   "metadata": {},
   "outputs": [],
   "source": [
    "wavecalib.fit_cdistortion(plots=True, title=input_filename)"
   ]
  },
  {
   "cell_type": "markdown",
   "id": "4028df94-0474-4e30-af5a-b79133e0222d",
   "metadata": {},
   "source": [
    "We can display the calculated C distortion over the original image by zooming in on each line.\n"
   ]
  },
  {
   "cell_type": "code",
   "execution_count": null,
   "id": "6f3b073b",
   "metadata": {},
   "outputs": [],
   "source": [
    "wavecalib.plot_cdistortion(data, title=input_filename)"
   ]
  },
  {
   "cell_type": "code",
   "execution_count": null,
   "id": "ee117c82",
   "metadata": {},
   "outputs": [],
   "source": [
    "wavecalib"
   ]
  },
  {
   "cell_type": "markdown",
   "id": "47f050ef-b082-4bc2-a9d0-cdf7eff16d8e",
   "metadata": {},
   "source": [
    "In the previous steps, we could also have used partial fits of the C distortion (using a low-degree polynomial) to predict the expected position of the lines. This should allow us to correct images with pronounced C distortion, for which using a single `xpeaks_reference` array may not be a good idea.\n"
   ]
  },
  {
   "cell_type": "code",
   "execution_count": null,
   "id": "9b690578",
   "metadata": {},
   "outputs": [],
   "source": [
    "wavecalib.reset_image()\n",
    "wavecalib"
   ]
  },
  {
   "cell_type": "markdown",
   "id": "db1c71cb-d460-4238-9f04-494d8f73f4bc",
   "metadata": {},
   "source": [
    "We start the procedure by fitting the spectra in the interval [1, 80].\n"
   ]
  },
  {
   "cell_type": "code",
   "execution_count": null,
   "id": "51d413d8-277d-4530-853d-932133e10e5e",
   "metadata": {},
   "outputs": [],
   "source": [
    "print(ns_range1)"
   ]
  },
  {
   "cell_type": "code",
   "execution_count": null,
   "id": "3b8c79c7",
   "metadata": {},
   "outputs": [],
   "source": [
    "wavecalib.compute_xpeaks_image(\n",
    "    data=data,\n",
    "    xpeaks_reference=xpeaks_reference,\n",
    "    ns_range=ns_range1,\n",
    "    plots=True,\n",
    "    title=input_filename,\n",
    "    disable_tqdm=False\n",
    ")"
   ]
  },
  {
   "cell_type": "markdown",
   "id": "a57ddde7-3661-464d-bcf1-a07bf89f12aa",
   "metadata": {},
   "source": [
    "We calculate the C distortion. In this case, extrapolating with a degree-2 polynomial (which introduces curvature) can be risky, and a more conservative option is to start with a degree-1 polynomial.\n"
   ]
  },
  {
   "cell_type": "code",
   "execution_count": null,
   "id": "4a7e0386",
   "metadata": {},
   "outputs": [],
   "source": [
    "wavecalib.fit_cdistortion(degree_cdistortion=1, plots=True, title=input_filename)"
   ]
  },
  {
   "cell_type": "markdown",
   "id": "29f714b9-a265-429a-b18c-b32eae1723a1",
   "metadata": {},
   "source": [
    "Using the `predict_cdistortion()` method, we can extrapolate the position of the lines for any spectrum, using the polynomials calculated so far to model the C distortion.\n",
    "\n",
    "We can predict, for example, the expected position of the peaks for spectrum number 120 (following the FITS convention).\n"
   ]
  },
  {
   "cell_type": "code",
   "execution_count": null,
   "id": "a4606e7f",
   "metadata": {},
   "outputs": [],
   "source": [
    "xpeaks_reference = wavecalib.predict_cdistortion(ns_fits=120)\n",
    "xpeaks_reference"
   ]
  },
  {
   "cell_type": "markdown",
   "id": "a30e810a-a914-4656-bd3e-2ca72cb022f3",
   "metadata": {},
   "source": [
    "The new `xpeaks_reference` values will be a good estimate of the expected peak positions in spectrum number 120.\n"
   ]
  },
  {
   "cell_type": "code",
   "execution_count": null,
   "id": "8950bff2-7ea9-41c9-9c3c-d0057de6aa99",
   "metadata": {},
   "outputs": [],
   "source": [
    "print(ns_range2)"
   ]
  },
  {
   "cell_type": "code",
   "execution_count": null,
   "id": "bc57a32c",
   "metadata": {},
   "outputs": [],
   "source": [
    "wavecalib.compute_xpeaks_image(\n",
    "    data=data,\n",
    "    xpeaks_reference=xpeaks_reference,\n",
    "    ns_range=ns_range2,\n",
    "    plots=True,\n",
    "    title=input_filename,\n",
    "    disable_tqdm=False\n",
    ")"
   ]
  },
  {
   "cell_type": "markdown",
   "id": "1b71f2a4-c955-4a0d-b83d-9454f500c26d",
   "metadata": {},
   "source": [
    "We can now increase the degree of the polynomial to fit the C distortion.\n"
   ]
  },
  {
   "cell_type": "code",
   "execution_count": null,
   "id": "c612dfbc",
   "metadata": {},
   "outputs": [],
   "source": [
    "wavecalib.fit_cdistortion(degree_cdistortion=2, plots=True, title=input_filename)"
   ]
  },
  {
   "cell_type": "markdown",
   "id": "fdbbccf4-0c85-4f07-9a93-3ebfd33af2bd",
   "metadata": {},
   "source": [
    "We once again predict the peak positions, this time for spectrum number 200.\n"
   ]
  },
  {
   "cell_type": "code",
   "execution_count": null,
   "id": "6f3849a2",
   "metadata": {},
   "outputs": [],
   "source": [
    "xpeaks_reference = wavecalib.predict_cdistortion(ns_fits=200)\n",
    "xpeaks_reference"
   ]
  },
  {
   "cell_type": "markdown",
   "id": "96f4e913-f962-4622-83be-14289ab8a5ba",
   "metadata": {},
   "source": [
    "We now search for the peaks in the last spatial interval."
   ]
  },
  {
   "cell_type": "code",
   "execution_count": null,
   "id": "6031b2f2-1d77-4ed8-89ab-7e69d403ee6b",
   "metadata": {},
   "outputs": [],
   "source": [
    "print(ns_range3)"
   ]
  },
  {
   "cell_type": "code",
   "execution_count": null,
   "id": "35eddfe6",
   "metadata": {},
   "outputs": [],
   "source": [
    "wavecalib.compute_xpeaks_image(\n",
    "    data=data,\n",
    "    xpeaks_reference=xpeaks_reference,\n",
    "    ns_range=ns_range3,\n",
    "    plots=True,\n",
    "    title=input_filename,\n",
    "    disable_tqdm=False\n",
    ")"
   ]
  },
  {
   "cell_type": "markdown",
   "id": "92ba0c8d-dee1-4284-9ed2-b03dae884fdc",
   "metadata": {},
   "source": [
    "We finish with the calculation of distortion C."
   ]
  },
  {
   "cell_type": "code",
   "execution_count": null,
   "id": "cec4bc78",
   "metadata": {},
   "outputs": [],
   "source": [
    "wavecalib.fit_cdistortion(plots=True, title=input_filename)"
   ]
  },
  {
   "cell_type": "code",
   "execution_count": null,
   "id": "b00f8daa",
   "metadata": {},
   "outputs": [],
   "source": [
    "wavecalib"
   ]
  },
  {
   "cell_type": "markdown",
   "id": "b0da8b98-0690-4d1e-ab59-5637bd4b9d54",
   "metadata": {},
   "source": [
    "## Wavelength Calibration Calculation for the Entire Image\n",
    "\n",
    "Once a good modeling of the C distortion has been obtained for a specific number of lines, the only remaining step is to evaluate, for each spectrum, the expected position of the lines. The wavelengths of these lines are then fitted based on the position of the peaks, for all spectra in the image. This then provides a wavelength calibration polynomial for each spectrum.\n",
    "\n",
    "This task is performed automatically using the `fit_wavelengths()` method.\n",
    "\n",
    "The calibration polynomials are stored in an auxiliary FITS file with the following format:\n",
    "\n",
    "- Primary HDU: an image is saved in which each row contains the coefficients of the `wavelength(pixel)` polynomial. That is, `NAXIS1` is equal to the degree of the wavelength calibration polynomial plus one (`degree_wavecalib+1`), while `NAXIS2` remains the number of spectra in the original FITS image.\n",
    "\n",
    "- Second HDU (extension number 1, `INV_POLY`): contains the coefficients of the `pixel(wavelength)` polynomial, which is the one actually fitted when calculating the wavelength calibration.\n",
    "\n",
    "- Third HDU (extension number 2, `CDISTOR`): contains the coefficients of the polynomials fitted to each spectral line (C distortion).\n",
    "\n",
    "- Fourth HDU (extension number 3, `COEFF`): contains a binary table with five columns:\n",
    "\n",
    "  - `residual_std_wav`: residual standard deviation of the fit to the `wavelength(pixel)` polynomial.\n",
    "  \n",
    "  - `residual_std_pix`: residual standard deviation of the fit to the `pixel(wavelength)` polynomial.\n",
    "\n",
    "  - `crval1_linear`: value of the FITS keyword `CRVAL1`, which stores the wavelength at the center of the first pixel (here we always assume the reference pixel is `CRPIX1=1`), in the linear approximation.\n",
    "  \n",
    "  - `cdelt1_linear`: value of the FITS keyword `CDELT1`, which stores the reciprocal linear dispersion, evaluated in the linear approximation.\n",
    "  \n",
    "  - `crmax1_linear`: value of the wavelength at the center of pixel number `NAXIS1`, calculated assuming the linear approximation.\n",
    "  \n",
    "We perform the wavelength calibration. During the process, auxiliary plots are shown (`plots=True`) with the values of `crval1_linear`, `cdelt1_linear`, `crmax1_linear`, and `residual_std`, as well as the various coefficients of the wavelength calibration polynomial, as a function of the spectrum number.\n"
   ]
  },
  {
   "cell_type": "code",
   "execution_count": null,
   "id": "6a58bbc2",
   "metadata": {},
   "outputs": [],
   "source": [
    "# define additional information for the image header\n",
    "history_list = [\n",
    "    'Wavelength calibration',\n",
    "    f'Input file: {input_filename}'\n",
    "]\n",
    "\n",
    "# name of the auxiliary FITS file\n",
    "wavecal_filename = f'wavecal_{input_filename}'\n",
    "\n",
    "# compute wavelength calibration and save result in auxiliary FITS file\n",
    "wavecalib.fit_wavelengths(\n",
    "    output_filename=wavecal_filename, \n",
    "    history_list=history_list,\n",
    "    plots=True,\n",
    "    title=input_filename\n",
    ")"
   ]
  },
  {
   "cell_type": "markdown",
   "id": "761cc3d1-9ef8-461c-b26e-7640c26a3ffc",
   "metadata": {},
   "source": [
    "## Reading the Calibration from the Auxiliary FITS File\n",
    "\n",
    "We can verify that the calibration we generated has been correctly stored in the auxiliary FITS file. To do this, we will create a new instance `wavecalib_bis` of the `TeaWaveCalibration` class, initializing it directly with the information stored in that file. Further below, we will check that the wavelength calibration it provides is the same as the one obtained from the initial `wavecalib` object.\n"
   ]
  },
  {
   "cell_type": "code",
   "execution_count": null,
   "id": "3ce5f016",
   "metadata": {},
   "outputs": [],
   "source": [
    "wavecalib_bis = tea.TeaWaveCalibration.read(wavecal_filename)"
   ]
  },
  {
   "cell_type": "markdown",
   "id": "781cd939-6d61-4249-ac4c-174a6ce2b652",
   "metadata": {},
   "source": [
    "## Applying the Wavelength Calibration\n",
    "\n",
    "Once all the wavelength calibration polynomials have been calculated, they just need to be applied to the images to be corrected. We can immediately apply the correction to the arc image.\n",
    "\n",
    "Note that this procedure simultaneously corrects for C distortion and performs resampling on a linear wavelength scale. This method therefore does not require resampling the data twice: that is, it is not necessary to first correct for C distortion (which involves resampling) and then apply the wavelength calibration (which would again involve resampling the signal). By performing both tasks at once, we avoid correlating the errors twice.\n",
    "\n",
    "Wavelength calibration requires providing two fundamental parameters:\n",
    "\n",
    "- `CRVAL1`: wavelength at the center of the first pixel (we are assuming `CRPIX1=1`).\n",
    "\n",
    "- `CDELT1`: reciprocal linear dispersion, constant throughout the resulting spectrum.\n"
   ]
  },
  {
   "cell_type": "code",
   "execution_count": null,
   "id": "8e561f2e",
   "metadata": {},
   "outputs": [],
   "source": [
    "crval1 = 6502 * u.Angstrom\n",
    "cdelt1 = 0.390 * u.Angstrom / u.pixel"
   ]
  },
  {
   "cell_type": "markdown",
   "id": "2ef9d671-cc30-47dc-87c4-2db61c755dcf",
   "metadata": {},
   "source": [
    "We are going to run the procedure twice: this way we can verify that the result is the same whether we use the `wavecalib` object or `wavecalib_bis`.\n"
   ]
  },
  {
   "cell_type": "code",
   "execution_count": null,
   "id": "b861328c",
   "metadata": {},
   "outputs": [],
   "source": [
    "data_wavecalib = wavecalib.apply(\n",
    "    data=data, \n",
    "    crval1=crval1, \n",
    "    cdelt1=cdelt1, \n",
    "    disable_tqdm=False\n",
    ")\n",
    "\n",
    "data_wavecalib_bis = wavecalib_bis.apply(\n",
    "    data=data, \n",
    "    crval1=crval1, \n",
    "    cdelt1=cdelt1, \n",
    "    disable_tqdm=False\n",
    ")"
   ]
  },
  {
   "cell_type": "code",
   "execution_count": null,
   "id": "af94cc28-e32b-4725-8be4-8d65f5ddaae5",
   "metadata": {},
   "outputs": [],
   "source": [
    "# difference between both calibrated arrays\n",
    "diff = data_wavecalib - data_wavecalib_bis\n",
    "print(diff.min(), diff.max())"
   ]
  },
  {
   "cell_type": "markdown",
   "id": "22bda3bc-a09f-4739-b130-6d4f882f92f9",
   "metadata": {},
   "source": [
    "We save the calibrated image to a FITS file. It is important not to forget to include in the FITS header the keywords that indicate the image is wavelength-calibrated. In this case, we take the *header* of the image (before being wavelength-calibrated) and complement it with the *keywords* `CRPIX1`, `CRVAL1`, `CDELT1`, `CUNIT1`, and `CTYPE1`.\n"
   ]
  },
  {
   "cell_type": "code",
   "execution_count": null,
   "id": "886867fe",
   "metadata": {},
   "outputs": [],
   "source": [
    "header = fits.getheader(input_filename)\n",
    "header['CRPIX1'] = (1, f'{u.pixel}')\n",
    "header['CRVAL1'] = (crval1.value, f'{crval1.unit}')\n",
    "header['CDELT1'] = (cdelt1.value, f'{cdelt1.unit}' )\n",
    "header['CUNIT1'] = (f'{crval1.unit}', 'wavelength unit')\n",
    "header['CTYPE1'] = ('AWAV', 'air wavelength')   \n",
    "\n",
    "hdu = fits.PrimaryHDU(header=header, data=data_wavecalib)\n",
    "hdul = fits.HDUList([hdu])\n",
    "hdul.writeto('dummy.fits', overwrite=True)"
   ]
  },
  {
   "cell_type": "markdown",
   "id": "dbabcfe3-8f1b-4133-bb1f-232883217826",
   "metadata": {},
   "source": [
    "We verify that the flux is preserved by calculating and plotting a total cross-section of the image in the spatial direction before and after applying the wavelength calibration.\n"
   ]
  },
  {
   "cell_type": "code",
   "execution_count": null,
   "id": "637b4892",
   "metadata": {},
   "outputs": [],
   "source": [
    "fig, ax = plt.subplots()\n",
    "ax.plot(np.sum(data, axis=1), label='original data')\n",
    "ax.plot(np.sum(data_wavecalib, axis=1), ls='--', label='WL calibrated data')\n",
    "ax.set_xlabel('Y axis (array index)')\n",
    "ax.set_ylabel('np.sum(data, axis=1)')\n",
    "ax.legend()"
   ]
  },
  {
   "cell_type": "markdown",
   "id": "86e4700e-cc89-4fb6-a3b4-0a2609b15e03",
   "metadata": {},
   "source": [
    "The result is the same using `wavecalib` and `wavecalib_bis` (within rounding error).\n"
   ]
  },
  {
   "cell_type": "code",
   "execution_count": null,
   "id": "b152b3a9",
   "metadata": {},
   "outputs": [],
   "source": [
    "fig, ax = plt.subplots()\n",
    "ax.plot(np.sum(data, axis=1)-np.sum(data_wavecalib, axis=1))\n",
    "ax.set_xlabel('Y axis (array index)')\n",
    "ax.set_ylabel('difference')"
   ]
  },
  {
   "cell_type": "markdown",
   "id": "850cf34d-da2b-4d6c-86cf-057985823eaf",
   "metadata": {},
   "source": [
    "## Graphical Check\n",
    "\n",
    "In the vicinity of each line, we will display the image before and after correcting for C distortion and calibrating in wavelength.\n",
    "\n",
    "The `wavecalib` object has a method `plot_data_comparison()` that graphically represents the image before/after wavelength calibration around each line (the function includes a parameter `semi_window`, which by default is `nx_window`, and determines the window, in pixels, to be used).\n"
   ]
  },
  {
   "cell_type": "code",
   "execution_count": null,
   "id": "72669b27",
   "metadata": {},
   "outputs": [],
   "source": [
    "wavecalib.plot_data_comparison(\n",
    "    data_before=data,\n",
    "    data_after=data_wavecalib,\n",
    "    crval1=crval1,\n",
    "    cdelt1=cdelt1,\n",
    "    title=f'Wavelength calibration of {input_filename}'\n",
    ")"
   ]
  },
  {
   "cell_type": "markdown",
   "id": "6c718e47-bdaf-43df-a724-9851f4dfcff9",
   "metadata": {},
   "source": [
    "The lines have been straightened: each one shows a slight global shift in the spectral direction (note how the scale on the X-axis changes) due to resampling when converting to a linear wavelength scale.\n"
   ]
  },
  {
   "cell_type": "markdown",
   "id": "6ea5d8fa-c3da-4ba6-9ca7-ebd834156051",
   "metadata": {},
   "source": [
    "## Numerical Check\n",
    "\n",
    "We calibrate in wavelength the image that has already been calibrated. We perform a new calibration process.\n"
   ]
  },
  {
   "cell_type": "code",
   "execution_count": null,
   "id": "139735a9",
   "metadata": {},
   "outputs": [],
   "source": [
    "wavecalib = tea.TeaWaveCalibration()\n",
    "wavecalib"
   ]
  },
  {
   "cell_type": "markdown",
   "id": "72a815c0-b3ea-45f1-bea1-623ebb108b4f",
   "metadata": {},
   "source": [
    "We use the parameters (`threshold`, `sigma_smooth`) that we already know produce a good detection of the relevant peaks.\n"
   ]
  },
  {
   "cell_type": "code",
   "execution_count": null,
   "id": "7d21f3a3-b1e8-4d96-9adb-51436f01c4cf",
   "metadata": {},
   "outputs": [],
   "source": [
    "print(ns_range)"
   ]
  },
  {
   "cell_type": "code",
   "execution_count": null,
   "id": "4b1873d6",
   "metadata": {},
   "outputs": [],
   "source": [
    "xpeaks_reference, ixpeaks_reference, spectrum_reference = wavecalib.compute_xpeaks_reference(\n",
    "    data=data_wavecalib,\n",
    "    ns_range=ns_range,\n",
    "    threshold=50,\n",
    "    sigma_smooth=2,\n",
    "    plot_spectrum=True,\n",
    "    plot_peaks=True\n",
    ")"
   ]
  },
  {
   "cell_type": "markdown",
   "id": "3bf30d40-a64a-43b8-b36a-901f8ab5ccff",
   "metadata": {},
   "source": [
    "The positions of the peaks and their wavelengths are the same as those used above.\n"
   ]
  },
  {
   "cell_type": "code",
   "execution_count": null,
   "id": "8a3e7c47",
   "metadata": {},
   "outputs": [],
   "source": [
    "xpeaks_reference"
   ]
  },
  {
   "cell_type": "code",
   "execution_count": null,
   "id": "9069b54a",
   "metadata": {},
   "outputs": [],
   "source": [
    "wavelengths_reference"
   ]
  },
  {
   "cell_type": "code",
   "execution_count": null,
   "id": "6ebbeaad",
   "metadata": {},
   "outputs": [],
   "source": [
    "wavecalib.define_peak_wavelengths(\n",
    "    xpeaks=xpeaks_reference,\n",
    "    wavelengths= wavelengths_reference\n",
    ")"
   ]
  },
  {
   "cell_type": "markdown",
   "id": "e8fae0e9-425f-4e51-b870-c34187d4bd5f",
   "metadata": {},
   "source": [
    "We calculate the wavelength calibration polynomial corresponding to the positions of the peaks we have found."
   ]
  },
  {
   "cell_type": "code",
   "execution_count": null,
   "id": "ea4661cd",
   "metadata": {},
   "outputs": [],
   "source": [
    "poly_fits_wav, residual_std_wav, poly_fits_pix, residual_std_pix, \\\n",
    "crval1_linear, cdelt1_linear, crmax1_linear = wavecalib.fit_xpeaks_wavelengths(\n",
    "    xpeaks=xpeaks_reference, \n",
    "    degree_wavecalib=1,\n",
    "    debug=True,\n",
    "    plots=True,\n",
    "    title=f'Recomputing calibration in calibrated {input_filename}'\n",
    ")"
   ]
  },
  {
   "cell_type": "markdown",
   "id": "5a2b7e41-4156-428f-9d5a-00cf813b90ea",
   "metadata": {},
   "source": [
    "We see that `CRVAL1_linear` and `CDELT1_linear` are very close to the values of `CRVAL1` and `CDELT1` that we used above to obtain the wavelength-calibrated image (which makes sense: the image is already calibrated in wavelength).\n",
    "\n",
    "We now proceed to adjust the position of all the lines in the image.\n"
   ]
  },
  {
   "cell_type": "code",
   "execution_count": null,
   "id": "f676285e",
   "metadata": {},
   "outputs": [],
   "source": [
    "wavecalib.compute_xpeaks_image(\n",
    "    data=data_wavecalib, \n",
    "    xpeaks_reference=xpeaks_reference, \n",
    "    plots=True,\n",
    "    disable_tqdm=False,\n",
    "    title=f'Recomputing xpeaks in calibrated {input_filename}'\n",
    ")"
   ]
  },
  {
   "cell_type": "markdown",
   "id": "8c0026d8-99c5-4619-8517-22f74a092661",
   "metadata": {},
   "source": [
    "We calculate and adjust the C distortion.\n"
   ]
  },
  {
   "cell_type": "code",
   "execution_count": null,
   "id": "832a79b3",
   "metadata": {},
   "outputs": [],
   "source": [
    "wavecalib.fit_cdistortion(\n",
    "    plots=True,\n",
    "    title=f'Recomputing C distortion in calibrated {input_filename}'\n",
    ")"
   ]
  },
  {
   "cell_type": "markdown",
   "id": "2c168537-ff77-4cc6-b229-3adb320e1256",
   "metadata": {},
   "source": [
    "The polynomials obtained are very vertical: there is no noticeable distortion.\n"
   ]
  },
  {
   "cell_type": "code",
   "execution_count": null,
   "id": "795bfde6",
   "metadata": {},
   "outputs": [],
   "source": [
    "wavecalib._list_poly_cdistortion"
   ]
  },
  {
   "cell_type": "code",
   "execution_count": null,
   "id": "eac7bfdf",
   "metadata": {},
   "outputs": [],
   "source": [
    "wavecalib.plot_cdistortion(\n",
    "    data=data_wavecalib,\n",
    "    title=f'Recomputing C distortion in calibrated {input_filename}'\n",
    ")"
   ]
  },
  {
   "cell_type": "markdown",
   "id": "84bb9a1a-862c-4160-8a9f-933515e8041f",
   "metadata": {},
   "source": [
    "## Applying the Calibration to a `CCDData` Object\n",
    "\n",
    "We read the calibration stored in the auxiliary FITS file.\n"
   ]
  },
  {
   "cell_type": "code",
   "execution_count": null,
   "id": "bd77a7a4",
   "metadata": {},
   "outputs": [],
   "source": [
    "print(wavecal_filename)"
   ]
  },
  {
   "cell_type": "code",
   "execution_count": null,
   "id": "1c2c8af3",
   "metadata": {},
   "outputs": [],
   "source": [
    "wavecalib = tea.TeaWaveCalibration.read(wavecal_filename)"
   ]
  },
  {
   "cell_type": "markdown",
   "id": "1252991d-e278-4964-9cb7-9e9328b97d6f",
   "metadata": {},
   "source": [
    "In case you want to apply this calibration to an instance of type `CCDData`, it is important to remember that these objects can store different arrays. In particular, the FITS file containing the reduced arc exposure we have been working with contains several extensions.\n"
   ]
  },
  {
   "cell_type": "code",
   "execution_count": null,
   "id": "682578a1",
   "metadata": {},
   "outputs": [],
   "source": [
    "print(input_filename)"
   ]
  },
  {
   "cell_type": "code",
   "execution_count": null,
   "id": "8fccd95a",
   "metadata": {},
   "outputs": [],
   "source": [
    "fits.info(input_filename)"
   ]
  },
  {
   "cell_type": "markdown",
   "id": "72e3ceb3-7ae6-4ec9-b722-5c130c3f9c12",
   "metadata": {},
   "source": [
    "We are going to apply the calibration to the 3 present extensions. When doing so on the `UNCERT` extension, we will introduce uncertainty correlation, which makes its propagation incorrect. In any case, we execute it here to get a first estimate of it.\n",
    "\n",
    "We read the complete information from the FITS file and generate an instance of type `CCDData`.\n"
   ]
  },
  {
   "cell_type": "code",
   "execution_count": null,
   "id": "1dea4d02",
   "metadata": {},
   "outputs": [],
   "source": [
    "ccdimage = CCDData.read(input_filename)"
   ]
  },
  {
   "cell_type": "markdown",
   "id": "15ce8f83-5fb9-4843-adca-09318dbfaf71",
   "metadata": {},
   "source": [
    "The mask we have read is completely filled with `False` values.\n"
   ]
  },
  {
   "cell_type": "code",
   "execution_count": null,
   "id": "4aa2f409",
   "metadata": {},
   "outputs": [],
   "source": [
    "ccdimage.mask.any()"
   ]
  },
  {
   "cell_type": "markdown",
   "id": "2ac2c9bf-5451-4b67-8b32-d0eced8ed0df",
   "metadata": {},
   "source": [
    "To verify that the calibration is also applied to the mask, we set to `True` the pixels corresponding to the peaks of the lines (using the prediction from the distortion C calibration polynomials).\n"
   ]
  },
  {
   "cell_type": "code",
   "execution_count": null,
   "id": "dc7d867b",
   "metadata": {},
   "outputs": [],
   "source": [
    "for iline in range(wavecalib._nlines_reference):\n",
    "    indices = (wavecalib._list_poly_cdistortion[iline](range(wavecalib._naxis2))+0.5).astype(int)\n",
    "    ccdimage.mask[:, indices] = True"
   ]
  },
  {
   "cell_type": "markdown",
   "id": "e8275cba-c04f-49da-883b-bf9f5dc5ce34",
   "metadata": {},
   "source": [
    "We display the mask by converting the boolean array into another one of real numbers, using NumPy's `astype(float)` method.\n"
   ]
  },
  {
   "cell_type": "code",
   "execution_count": null,
   "id": "8cabd601",
   "metadata": {},
   "outputs": [],
   "source": [
    "fig, ax = plt.subplots(figsize=(15, 5))\n",
    "vmin, vmax = 0, 1\n",
    "img = ax.imshow(ccdimage.mask.astype(float), \n",
    "                vmin=vmin, vmax=vmax, cmap='gray', \n",
    "                origin='lower', aspect='auto', interpolation='nearest')\n",
    "divider = make_axes_locatable(ax)\n",
    "cax = divider.append_axes(\"right\", size=\"5%\", pad=0.05)\n",
    "fig.colorbar(img, cax=cax, label='Number of counts')\n",
    "ax.set_xlabel('X axis (array index)')\n",
    "ax.set_ylabel('Y axis (array index)')\n",
    "ax.set_title('MASK extension')"
   ]
  },
  {
   "cell_type": "markdown",
   "id": "2f18a21c-e740-419c-aaf0-23e62b540439",
   "metadata": {},
   "source": [
    "We duplicate the `ccdimage` object to store in it the result of applying the distortion C correction and the wavelength calibration.\n"
   ]
  },
  {
   "cell_type": "code",
   "execution_count": null,
   "id": "88ba3905",
   "metadata": {},
   "outputs": [],
   "source": [
    "ccdimage_wavecalib = ccdimage.copy()"
   ]
  },
  {
   "cell_type": "markdown",
   "id": "7d379da1-fc31-49b5-864c-5d010d2f9c87",
   "metadata": {},
   "source": [
    "We apply the distortion C correction and the wavelength calibration to the 3 extensions. In the case of the mask, we first convert it into real numbers, perform the wavelength calibration, and finally store it as a boolean array by setting to `True` the values greater than zero.\n"
   ]
  },
  {
   "cell_type": "code",
   "execution_count": null,
   "id": "ce35d99c",
   "metadata": {},
   "outputs": [],
   "source": [
    "# apply C-distortion correction and wavelength calibration to PRIMARY extension\n",
    "ccdimage_wavecalib.data = wavecalib.apply(\n",
    "    data=ccdimage.data, \n",
    "    crval1=crval1, \n",
    "    cdelt1=cdelt1,\n",
    "    disable_tqdm=False\n",
    ")\n",
    "\n",
    "# apply C-distortion correction and wavelength calibration to MASK extension\n",
    "ccdimage_wavecalib.mask = wavecalib.apply(\n",
    "    data=ccdimage.mask.astype(float), \n",
    "    crval1=crval1, \n",
    "    cdelt1=cdelt1,\n",
    "    disable_tqdm=False\n",
    ") > 0\n",
    "\n",
    "# apply C-distortion correction and wavelength calibration to UNCERT extension\n",
    "ccdimage_wavecalib.uncertainty.array = wavecalib.apply(\n",
    "    data=ccdimage.uncertainty.array,\n",
    "    crval1=crval1,\n",
    "    cdelt1=cdelt1,\n",
    "    disable_tqdm=False\n",
    ")"
   ]
  },
  {
   "cell_type": "markdown",
   "id": "d42f9dfa-9c14-4207-9fd6-d9fe140e0d81",
   "metadata": {},
   "source": [
    "We show the result before / after applying the calibration on the `PRIMARY` extension.\n"
   ]
  },
  {
   "cell_type": "code",
   "execution_count": null,
   "id": "2acea307",
   "metadata": {},
   "outputs": [],
   "source": [
    "wavecalib.plot_data_comparison(\n",
    "    data_before=ccdimage.data,\n",
    "    data_after=ccdimage_wavecalib.data,\n",
    "    crval1=crval1,\n",
    "    cdelt1=cdelt1,\n",
    "    title=f'Primary HDU of {input_filename}'\n",
    ")"
   ]
  },
  {
   "cell_type": "markdown",
   "id": "e74a2510-e5bb-4caa-ac07-824f1fcccb5d",
   "metadata": {},
   "source": [
    "We show the result before / after applying the calibration on the `MASK` extension.\n"
   ]
  },
  {
   "cell_type": "code",
   "execution_count": null,
   "id": "550efed5",
   "metadata": {},
   "outputs": [],
   "source": [
    "wavecalib.plot_data_comparison(\n",
    "    data_before=ccdimage.mask.astype(float),\n",
    "    data_after=ccdimage_wavecalib.mask.astype(float),\n",
    "    crval1=crval1,\n",
    "    cdelt1=cdelt1,\n",
    "    title=f'MASK extension of {input_filename}'\n",
    ")"
   ]
  },
  {
   "cell_type": "markdown",
   "id": "19f7eb50-3915-47ff-9e47-fe876bff27d0",
   "metadata": {},
   "source": [
    "We show the result before / after applying the calibration on the `UNCERT` extension (**we emphasize that from this point on, the errors stored in this array will be correlated**).\n"
   ]
  },
  {
   "cell_type": "code",
   "execution_count": null,
   "id": "21b6fbbe",
   "metadata": {},
   "outputs": [],
   "source": [
    "wavecalib.plot_data_comparison(\n",
    "    data_before=ccdimage.uncertainty.array,\n",
    "    data_after=ccdimage_wavecalib.uncertainty.array,\n",
    "    crval1=crval1,\n",
    "    cdelt1=cdelt1,\n",
    "    title=f'UNCERT extension of {input_filename}'\n",
    ")"
   ]
  },
  {
   "cell_type": "markdown",
   "id": "0c2539d7-447d-4f51-85bb-9e33c45d8df8",
   "metadata": {},
   "source": [
    "We finally save the resulting `CCDData` object.\n"
   ]
  },
  {
   "cell_type": "code",
   "execution_count": null,
   "id": "639c50e2",
   "metadata": {},
   "outputs": [],
   "source": [
    "# include wavelength calibration parameters\n",
    "ccdimage_wavecalib.header['CRPIX1'] = (1, f'{u.pixel}')\n",
    "ccdimage_wavecalib.header['CRVAL1'] = (crval1.value, f'{crval1.unit}')\n",
    "ccdimage_wavecalib.header['CDELT1'] = (cdelt1.value, f'{cdelt1.unit}' )\n",
    "ccdimage_wavecalib.header['CUNIT1'] = (f'{crval1.unit}', 'wavelength unit')\n",
    "ccdimage_wavecalib.header['CTYPE1'] = ('AWAV', 'air wavelength')   \n",
    "\n",
    "# update FILENAME keyword with output file name\n",
    "output_filename = f'w{input_filename}'\n",
    "ccdimage_wavecalib.header['FILENAME'] = output_filename\n",
    "# update HISTORY in header\n",
    "ccdimage_wavecalib.header['HISTORY']  = '-------------------'\n",
    "ccdimage_wavecalib.header['HISTORY']  = f\"{datetime.now().strftime('%Y-%m-%d %H:%M:%S')}\"\n",
    "ccdimage_wavecalib.header['HISTORY'] = 'using tea_wavecal'\n",
    "ccdimage_wavecalib.header['HISTORY'] = f'calibration file: {wavecal_filename}'\n",
    "\n",
    "# save result\n",
    "ccdimage_wavecalib.write(output_filename, overwrite='yes')\n",
    "print(f'Output file name.: {output_filename}')"
   ]
  },
  {
   "cell_type": "markdown",
   "id": "de9758cc-3c6c-4390-b3ca-3b4919aaa474",
   "metadata": {},
   "source": [
    "### Auxiliary function `apply_wavecal_ccddata()`\n",
    "\n",
    "We have defined an auxiliary function called `apply_wavecal_ccddata()` that facilitates the application of wavelength calibration on FITS files that store `CCDData` objects.\n",
    "\n",
    "For example, we can calibrate the previous image, stored in\n"
   ]
  },
  {
   "cell_type": "code",
   "execution_count": null,
   "id": "000c7dc0",
   "metadata": {},
   "outputs": [],
   "source": [
    "print(input_filename)"
   ]
  },
  {
   "cell_type": "markdown",
   "id": "085a9ff1",
   "metadata": {},
   "source": [
    "using the wavelength calibration stored in"
   ]
  },
  {
   "cell_type": "code",
   "execution_count": null,
   "id": "192eb7e8",
   "metadata": {},
   "outputs": [],
   "source": [
    "print(wavecal_filename)"
   ]
  },
  {
   "cell_type": "markdown",
   "id": "540cdf50",
   "metadata": {},
   "source": [
    "and saving the result in\n"
   ]
  },
  {
   "cell_type": "code",
   "execution_count": null,
   "id": "2d0f6aaf",
   "metadata": {},
   "outputs": [],
   "source": [
    "output_filename = f'ww{input_filename}'\n",
    "print(output_filename)"
   ]
  },
  {
   "cell_type": "markdown",
   "id": "dc42c93f-401a-4326-ba62-872b8dbfda0c",
   "metadata": {},
   "source": [
    "We will use the following parameters for the calibrated image:"
   ]
  },
  {
   "cell_type": "code",
   "execution_count": null,
   "id": "e2ec45bb",
   "metadata": {},
   "outputs": [],
   "source": [
    "print(crval1)\n",
    "print(cdelt1)"
   ]
  },
  {
   "cell_type": "markdown",
   "id": "74be65c3-d7e6-4905-878e-7824d3d53603",
   "metadata": {},
   "source": [
    "The function `apply_wavecal_ccdata()` is executed easily by including the above information\n"
   ]
  },
  {
   "cell_type": "code",
   "execution_count": null,
   "id": "58629664",
   "metadata": {},
   "outputs": [],
   "source": [
    "tea.apply_wavecal_ccddata(\n",
    "    infile=input_filename,\n",
    "    wcalibfile=wavecal_filename,\n",
    "    outfile=output_filename,\n",
    "    crval1=crval1,\n",
    "    cdelt1=cdelt1\n",
    ")"
   ]
  },
  {
   "cell_type": "markdown",
   "id": "f28b689c-3c7f-43e7-b857-eae004f601b3",
   "metadata": {},
   "source": [
    "By default, the function runs in \"silent\" mode (without displaying informational messages), so if we need to apply it automatically to many images, it won't generate too many messages. If preferred, we can get some *feedback* by setting `silent_mode=False`.\n"
   ]
  },
  {
   "cell_type": "code",
   "execution_count": null,
   "id": "6db140ab",
   "metadata": {},
   "outputs": [],
   "source": [
    "tea.apply_wavecal_ccddata(\n",
    "    infile=input_filename,\n",
    "    wcalibfile=wavecal_filename,\n",
    "    outfile=output_filename,\n",
    "    crval1=crval1,\n",
    "    cdelt1=cdelt1,\n",
    "    silent_mode=False\n",
    ")"
   ]
  },
  {
   "cell_type": "markdown",
   "id": "a3bf3b46-4dc5-47b8-9d88-1fad0e9e534a",
   "metadata": {},
   "source": [
    "We can also indicate that a graphical comparison is shown before / after running the calibration, using the parameter `plot_data_comparison`, which can take 3 values:\n",
    "- 0: draws nothing\n",
    "- 1: compares the data arrays (primary extension)\n",
    "- 2: compares the primary HDU and the two extensions (`MASK` and `UNCERT`)\n"
   ]
  },
  {
   "cell_type": "code",
   "execution_count": null,
   "id": "9d3d076c",
   "metadata": {},
   "outputs": [],
   "source": [
    "tea.apply_wavecal_ccddata(\n",
    "    infile=input_filename,\n",
    "    wcalibfile=wavecal_filename,\n",
    "    outfile=output_filename,\n",
    "    crval1=crval1,\n",
    "    cdelt1=cdelt1,\n",
    "    silent_mode=False,\n",
    "    plot_data_comparison=1,\n",
    "    title=input_filename\n",
    ")"
   ]
  },
  {
   "cell_type": "code",
   "execution_count": null,
   "id": "f2973902",
   "metadata": {},
   "outputs": [],
   "source": [
    "time_end = datetime.now()\n",
    "tea.elapsed_time(time_ini, time_end)"
   ]
  },
  {
   "cell_type": "code",
   "execution_count": null,
   "id": "68ea3fd6",
   "metadata": {},
   "outputs": [],
   "source": []
  }
 ],
 "metadata": {
  "kernelspec": {
   "display_name": "Python 3 (ipykernel)",
   "language": "python",
   "name": "python3"
  },
  "language_info": {
   "codemirror_mode": {
    "name": "ipython",
    "version": 3
   },
   "file_extension": ".py",
   "mimetype": "text/x-python",
   "name": "python",
   "nbconvert_exporter": "python",
   "pygments_lexer": "ipython3",
   "version": "3.12.7"
  }
 },
 "nbformat": 4,
 "nbformat_minor": 5
}
